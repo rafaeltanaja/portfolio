{
  "cells": [
    {
      "cell_type": "markdown",
      "metadata": {
        "id": "ZsRsljYAnUuK"
      },
      "source": [
        "- Nama: Rafael Nicholas Tanaja\n",
        "- NIM: 2540118656"
      ]
    },
    {
      "cell_type": "code",
      "execution_count": null,
      "metadata": {
        "id": "aO8rUA3zHfjq"
      },
      "outputs": [],
      "source": [
        "import numpy as np\n",
        "import pandas as pd\n",
        "import matplotlib.pyplot as plt\n",
        "import seaborn as sns\n",
        "import tensorflow as tf\n",
        "\n",
        "from sklearn.model_selection import train_test_split\n",
        "from tensorflow.keras.models import Sequential\n",
        "from tensorflow.keras.layers import LSTM, Dense\n",
        "\n",
        "import warnings\n",
        "warnings.filterwarnings('ignore')"
      ]
    },
    {
      "cell_type": "code",
      "execution_count": null,
      "metadata": {
        "colab": {
          "base_uri": "https://localhost:8080/"
        },
        "id": "g9JHKLgVHigK",
        "outputId": "fe07e66f-07db-464d-d110-6021b2c65099"
      },
      "outputs": [
        {
          "output_type": "stream",
          "name": "stdout",
          "text": [
            "Mounted at /content/gdrive\n"
          ]
        }
      ],
      "source": [
        "from google.colab import drive\n",
        "drive.mount('/content/gdrive')"
      ]
    },
    {
      "cell_type": "code",
      "execution_count": null,
      "metadata": {
        "id": "TzkD_fuJIGTJ"
      },
      "outputs": [],
      "source": [
        "amd = pd.read_csv('gdrive/MyDrive/UAS_Deep_Learning/AMD.csv')"
      ]
    },
    {
      "cell_type": "code",
      "execution_count": null,
      "metadata": {
        "id": "r_c57v8hIjC6"
      },
      "outputs": [],
      "source": [
        "aapl = pd.read_csv('gdrive/MyDrive/UAS_Deep_Learning/AAPL.csv')"
      ]
    },
    {
      "cell_type": "markdown",
      "metadata": {
        "id": "eaMuPDDTrmGO"
      },
      "source": [
        "## Data Preprocessing"
      ]
    },
    {
      "cell_type": "code",
      "execution_count": null,
      "metadata": {
        "colab": {
          "base_uri": "https://localhost:8080/"
        },
        "id": "v7jmQ4c4IelI",
        "outputId": "05225db9-13d2-4fac-9d81-48d1dc2b0342"
      },
      "outputs": [
        {
          "output_type": "stream",
          "name": "stdout",
          "text": [
            "<class 'pandas.core.frame.DataFrame'>\n",
            "RangeIndex: 10098 entries, 0 to 10097\n",
            "Data columns (total 7 columns):\n",
            " #   Column     Non-Null Count  Dtype  \n",
            "---  ------     --------------  -----  \n",
            " 0   Date       10098 non-null  object \n",
            " 1   Open       10098 non-null  float64\n",
            " 2   High       10098 non-null  float64\n",
            " 3   Low        10098 non-null  float64\n",
            " 4   Close      10098 non-null  float64\n",
            " 5   Adj Close  10098 non-null  float64\n",
            " 6   Volume     10098 non-null  int64  \n",
            "dtypes: float64(5), int64(1), object(1)\n",
            "memory usage: 552.4+ KB\n"
          ]
        }
      ],
      "source": [
        "amd.info()"
      ]
    },
    {
      "cell_type": "code",
      "execution_count": null,
      "metadata": {
        "colab": {
          "base_uri": "https://localhost:8080/"
        },
        "id": "KDUvHIcfIr3u",
        "outputId": "53591758-4835-4ea6-e069-73baea5e4038"
      },
      "outputs": [
        {
          "output_type": "stream",
          "name": "stdout",
          "text": [
            "<class 'pandas.core.frame.DataFrame'>\n",
            "RangeIndex: 9909 entries, 0 to 9908\n",
            "Data columns (total 7 columns):\n",
            " #   Column     Non-Null Count  Dtype  \n",
            "---  ------     --------------  -----  \n",
            " 0   Date       9909 non-null   object \n",
            " 1   Open       9909 non-null   float64\n",
            " 2   High       9909 non-null   float64\n",
            " 3   Low        9909 non-null   float64\n",
            " 4   Close      9909 non-null   float64\n",
            " 5   Adj Close  9909 non-null   float64\n",
            " 6   Volume     9909 non-null   int64  \n",
            "dtypes: float64(5), int64(1), object(1)\n",
            "memory usage: 542.0+ KB\n"
          ]
        }
      ],
      "source": [
        "aapl.info()"
      ]
    },
    {
      "cell_type": "code",
      "execution_count": null,
      "metadata": {
        "colab": {
          "base_uri": "https://localhost:8080/"
        },
        "id": "WSagW8imJxqi",
        "outputId": "93acd343-fccf-4917-dcf7-f3839b318352"
      },
      "outputs": [
        {
          "output_type": "execute_result",
          "data": {
            "text/plain": [
              "         Date  Open      High       Low     Close  Adj Close  Volume\n",
              "0  1980-03-17   0.0  3.302083  3.125000  3.145833   3.145833  219600\n",
              "1  1980-03-18   0.0  3.125000  2.937500  3.031250   3.031250  727200\n",
              "2  1980-03-19   0.0  3.083333  3.020833  3.041667   3.041667  295200\n",
              "3  1980-03-20   0.0  3.062500  3.010417  3.010417   3.010417  159600\n",
              "4  1980-03-21   0.0  3.020833  2.906250  2.916667   2.916667  130800"
            ],
            "text/html": [
              "\n",
              "  <div id=\"df-11d41788-b829-44d8-a37f-6605c8d96d7f\">\n",
              "    <div class=\"colab-df-container\">\n",
              "      <div>\n",
              "<style scoped>\n",
              "    .dataframe tbody tr th:only-of-type {\n",
              "        vertical-align: middle;\n",
              "    }\n",
              "\n",
              "    .dataframe tbody tr th {\n",
              "        vertical-align: top;\n",
              "    }\n",
              "\n",
              "    .dataframe thead th {\n",
              "        text-align: right;\n",
              "    }\n",
              "</style>\n",
              "<table border=\"1\" class=\"dataframe\">\n",
              "  <thead>\n",
              "    <tr style=\"text-align: right;\">\n",
              "      <th></th>\n",
              "      <th>Date</th>\n",
              "      <th>Open</th>\n",
              "      <th>High</th>\n",
              "      <th>Low</th>\n",
              "      <th>Close</th>\n",
              "      <th>Adj Close</th>\n",
              "      <th>Volume</th>\n",
              "    </tr>\n",
              "  </thead>\n",
              "  <tbody>\n",
              "    <tr>\n",
              "      <th>0</th>\n",
              "      <td>1980-03-17</td>\n",
              "      <td>0.0</td>\n",
              "      <td>3.302083</td>\n",
              "      <td>3.125000</td>\n",
              "      <td>3.145833</td>\n",
              "      <td>3.145833</td>\n",
              "      <td>219600</td>\n",
              "    </tr>\n",
              "    <tr>\n",
              "      <th>1</th>\n",
              "      <td>1980-03-18</td>\n",
              "      <td>0.0</td>\n",
              "      <td>3.125000</td>\n",
              "      <td>2.937500</td>\n",
              "      <td>3.031250</td>\n",
              "      <td>3.031250</td>\n",
              "      <td>727200</td>\n",
              "    </tr>\n",
              "    <tr>\n",
              "      <th>2</th>\n",
              "      <td>1980-03-19</td>\n",
              "      <td>0.0</td>\n",
              "      <td>3.083333</td>\n",
              "      <td>3.020833</td>\n",
              "      <td>3.041667</td>\n",
              "      <td>3.041667</td>\n",
              "      <td>295200</td>\n",
              "    </tr>\n",
              "    <tr>\n",
              "      <th>3</th>\n",
              "      <td>1980-03-20</td>\n",
              "      <td>0.0</td>\n",
              "      <td>3.062500</td>\n",
              "      <td>3.010417</td>\n",
              "      <td>3.010417</td>\n",
              "      <td>3.010417</td>\n",
              "      <td>159600</td>\n",
              "    </tr>\n",
              "    <tr>\n",
              "      <th>4</th>\n",
              "      <td>1980-03-21</td>\n",
              "      <td>0.0</td>\n",
              "      <td>3.020833</td>\n",
              "      <td>2.906250</td>\n",
              "      <td>2.916667</td>\n",
              "      <td>2.916667</td>\n",
              "      <td>130800</td>\n",
              "    </tr>\n",
              "  </tbody>\n",
              "</table>\n",
              "</div>\n",
              "      <button class=\"colab-df-convert\" onclick=\"convertToInteractive('df-11d41788-b829-44d8-a37f-6605c8d96d7f')\"\n",
              "              title=\"Convert this dataframe to an interactive table.\"\n",
              "              style=\"display:none;\">\n",
              "        \n",
              "  <svg xmlns=\"http://www.w3.org/2000/svg\" height=\"24px\"viewBox=\"0 0 24 24\"\n",
              "       width=\"24px\">\n",
              "    <path d=\"M0 0h24v24H0V0z\" fill=\"none\"/>\n",
              "    <path d=\"M18.56 5.44l.94 2.06.94-2.06 2.06-.94-2.06-.94-.94-2.06-.94 2.06-2.06.94zm-11 1L8.5 8.5l.94-2.06 2.06-.94-2.06-.94L8.5 2.5l-.94 2.06-2.06.94zm10 10l.94 2.06.94-2.06 2.06-.94-2.06-.94-.94-2.06-.94 2.06-2.06.94z\"/><path d=\"M17.41 7.96l-1.37-1.37c-.4-.4-.92-.59-1.43-.59-.52 0-1.04.2-1.43.59L10.3 9.45l-7.72 7.72c-.78.78-.78 2.05 0 2.83L4 21.41c.39.39.9.59 1.41.59.51 0 1.02-.2 1.41-.59l7.78-7.78 2.81-2.81c.8-.78.8-2.07 0-2.86zM5.41 20L4 18.59l7.72-7.72 1.47 1.35L5.41 20z\"/>\n",
              "  </svg>\n",
              "      </button>\n",
              "      \n",
              "  <style>\n",
              "    .colab-df-container {\n",
              "      display:flex;\n",
              "      flex-wrap:wrap;\n",
              "      gap: 12px;\n",
              "    }\n",
              "\n",
              "    .colab-df-convert {\n",
              "      background-color: #E8F0FE;\n",
              "      border: none;\n",
              "      border-radius: 50%;\n",
              "      cursor: pointer;\n",
              "      display: none;\n",
              "      fill: #1967D2;\n",
              "      height: 32px;\n",
              "      padding: 0 0 0 0;\n",
              "      width: 32px;\n",
              "    }\n",
              "\n",
              "    .colab-df-convert:hover {\n",
              "      background-color: #E2EBFA;\n",
              "      box-shadow: 0px 1px 2px rgba(60, 64, 67, 0.3), 0px 1px 3px 1px rgba(60, 64, 67, 0.15);\n",
              "      fill: #174EA6;\n",
              "    }\n",
              "\n",
              "    [theme=dark] .colab-df-convert {\n",
              "      background-color: #3B4455;\n",
              "      fill: #D2E3FC;\n",
              "    }\n",
              "\n",
              "    [theme=dark] .colab-df-convert:hover {\n",
              "      background-color: #434B5C;\n",
              "      box-shadow: 0px 1px 3px 1px rgba(0, 0, 0, 0.15);\n",
              "      filter: drop-shadow(0px 1px 2px rgba(0, 0, 0, 0.3));\n",
              "      fill: #FFFFFF;\n",
              "    }\n",
              "  </style>\n",
              "\n",
              "      <script>\n",
              "        const buttonEl =\n",
              "          document.querySelector('#df-11d41788-b829-44d8-a37f-6605c8d96d7f button.colab-df-convert');\n",
              "        buttonEl.style.display =\n",
              "          google.colab.kernel.accessAllowed ? 'block' : 'none';\n",
              "\n",
              "        async function convertToInteractive(key) {\n",
              "          const element = document.querySelector('#df-11d41788-b829-44d8-a37f-6605c8d96d7f');\n",
              "          const dataTable =\n",
              "            await google.colab.kernel.invokeFunction('convertToInteractive',\n",
              "                                                     [key], {});\n",
              "          if (!dataTable) return;\n",
              "\n",
              "          const docLinkHtml = 'Like what you see? Visit the ' +\n",
              "            '<a target=\"_blank\" href=https://colab.research.google.com/notebooks/data_table.ipynb>data table notebook</a>'\n",
              "            + ' to learn more about interactive tables.';\n",
              "          element.innerHTML = '';\n",
              "          dataTable['output_type'] = 'display_data';\n",
              "          await google.colab.output.renderOutput(dataTable, element);\n",
              "          const docLink = document.createElement('div');\n",
              "          docLink.innerHTML = docLinkHtml;\n",
              "          element.appendChild(docLink);\n",
              "        }\n",
              "      </script>\n",
              "    </div>\n",
              "  </div>\n",
              "  "
            ]
          },
          "metadata": {},
          "execution_count": 7
        }
      ],
      "source": [
        "amd.head(5)"
      ]
    },
    {
      "cell_type": "code",
      "execution_count": null,
      "metadata": {
        "colab": {
          "base_uri": "https://localhost:8080/"
        },
        "id": "5p2nUaTHJ0IZ",
        "outputId": "6a6bc583-bfeb-41aa-d704-0600a268c59f"
      },
      "outputs": [
        {
          "output_type": "execute_result",
          "data": {
            "text/plain": [
              "         Date      Open      High       Low     Close  Adj Close     Volume\n",
              "0  1980-12-12  0.513393  0.515625  0.513393  0.513393   0.406782  117258400\n",
              "1  1980-12-15  0.488839  0.488839  0.486607  0.486607   0.385558   43971200\n",
              "2  1980-12-16  0.453125  0.453125  0.450893  0.450893   0.357260   26432000\n",
              "3  1980-12-17  0.462054  0.464286  0.462054  0.462054   0.366103   21610400\n",
              "4  1980-12-18  0.475446  0.477679  0.475446  0.475446   0.376715   18362400"
            ],
            "text/html": [
              "\n",
              "  <div id=\"df-2775d125-cfd6-4625-8eda-dd896dd055bc\">\n",
              "    <div class=\"colab-df-container\">\n",
              "      <div>\n",
              "<style scoped>\n",
              "    .dataframe tbody tr th:only-of-type {\n",
              "        vertical-align: middle;\n",
              "    }\n",
              "\n",
              "    .dataframe tbody tr th {\n",
              "        vertical-align: top;\n",
              "    }\n",
              "\n",
              "    .dataframe thead th {\n",
              "        text-align: right;\n",
              "    }\n",
              "</style>\n",
              "<table border=\"1\" class=\"dataframe\">\n",
              "  <thead>\n",
              "    <tr style=\"text-align: right;\">\n",
              "      <th></th>\n",
              "      <th>Date</th>\n",
              "      <th>Open</th>\n",
              "      <th>High</th>\n",
              "      <th>Low</th>\n",
              "      <th>Close</th>\n",
              "      <th>Adj Close</th>\n",
              "      <th>Volume</th>\n",
              "    </tr>\n",
              "  </thead>\n",
              "  <tbody>\n",
              "    <tr>\n",
              "      <th>0</th>\n",
              "      <td>1980-12-12</td>\n",
              "      <td>0.513393</td>\n",
              "      <td>0.515625</td>\n",
              "      <td>0.513393</td>\n",
              "      <td>0.513393</td>\n",
              "      <td>0.406782</td>\n",
              "      <td>117258400</td>\n",
              "    </tr>\n",
              "    <tr>\n",
              "      <th>1</th>\n",
              "      <td>1980-12-15</td>\n",
              "      <td>0.488839</td>\n",
              "      <td>0.488839</td>\n",
              "      <td>0.486607</td>\n",
              "      <td>0.486607</td>\n",
              "      <td>0.385558</td>\n",
              "      <td>43971200</td>\n",
              "    </tr>\n",
              "    <tr>\n",
              "      <th>2</th>\n",
              "      <td>1980-12-16</td>\n",
              "      <td>0.453125</td>\n",
              "      <td>0.453125</td>\n",
              "      <td>0.450893</td>\n",
              "      <td>0.450893</td>\n",
              "      <td>0.357260</td>\n",
              "      <td>26432000</td>\n",
              "    </tr>\n",
              "    <tr>\n",
              "      <th>3</th>\n",
              "      <td>1980-12-17</td>\n",
              "      <td>0.462054</td>\n",
              "      <td>0.464286</td>\n",
              "      <td>0.462054</td>\n",
              "      <td>0.462054</td>\n",
              "      <td>0.366103</td>\n",
              "      <td>21610400</td>\n",
              "    </tr>\n",
              "    <tr>\n",
              "      <th>4</th>\n",
              "      <td>1980-12-18</td>\n",
              "      <td>0.475446</td>\n",
              "      <td>0.477679</td>\n",
              "      <td>0.475446</td>\n",
              "      <td>0.475446</td>\n",
              "      <td>0.376715</td>\n",
              "      <td>18362400</td>\n",
              "    </tr>\n",
              "  </tbody>\n",
              "</table>\n",
              "</div>\n",
              "      <button class=\"colab-df-convert\" onclick=\"convertToInteractive('df-2775d125-cfd6-4625-8eda-dd896dd055bc')\"\n",
              "              title=\"Convert this dataframe to an interactive table.\"\n",
              "              style=\"display:none;\">\n",
              "        \n",
              "  <svg xmlns=\"http://www.w3.org/2000/svg\" height=\"24px\"viewBox=\"0 0 24 24\"\n",
              "       width=\"24px\">\n",
              "    <path d=\"M0 0h24v24H0V0z\" fill=\"none\"/>\n",
              "    <path d=\"M18.56 5.44l.94 2.06.94-2.06 2.06-.94-2.06-.94-.94-2.06-.94 2.06-2.06.94zm-11 1L8.5 8.5l.94-2.06 2.06-.94-2.06-.94L8.5 2.5l-.94 2.06-2.06.94zm10 10l.94 2.06.94-2.06 2.06-.94-2.06-.94-.94-2.06-.94 2.06-2.06.94z\"/><path d=\"M17.41 7.96l-1.37-1.37c-.4-.4-.92-.59-1.43-.59-.52 0-1.04.2-1.43.59L10.3 9.45l-7.72 7.72c-.78.78-.78 2.05 0 2.83L4 21.41c.39.39.9.59 1.41.59.51 0 1.02-.2 1.41-.59l7.78-7.78 2.81-2.81c.8-.78.8-2.07 0-2.86zM5.41 20L4 18.59l7.72-7.72 1.47 1.35L5.41 20z\"/>\n",
              "  </svg>\n",
              "      </button>\n",
              "      \n",
              "  <style>\n",
              "    .colab-df-container {\n",
              "      display:flex;\n",
              "      flex-wrap:wrap;\n",
              "      gap: 12px;\n",
              "    }\n",
              "\n",
              "    .colab-df-convert {\n",
              "      background-color: #E8F0FE;\n",
              "      border: none;\n",
              "      border-radius: 50%;\n",
              "      cursor: pointer;\n",
              "      display: none;\n",
              "      fill: #1967D2;\n",
              "      height: 32px;\n",
              "      padding: 0 0 0 0;\n",
              "      width: 32px;\n",
              "    }\n",
              "\n",
              "    .colab-df-convert:hover {\n",
              "      background-color: #E2EBFA;\n",
              "      box-shadow: 0px 1px 2px rgba(60, 64, 67, 0.3), 0px 1px 3px 1px rgba(60, 64, 67, 0.15);\n",
              "      fill: #174EA6;\n",
              "    }\n",
              "\n",
              "    [theme=dark] .colab-df-convert {\n",
              "      background-color: #3B4455;\n",
              "      fill: #D2E3FC;\n",
              "    }\n",
              "\n",
              "    [theme=dark] .colab-df-convert:hover {\n",
              "      background-color: #434B5C;\n",
              "      box-shadow: 0px 1px 3px 1px rgba(0, 0, 0, 0.15);\n",
              "      filter: drop-shadow(0px 1px 2px rgba(0, 0, 0, 0.3));\n",
              "      fill: #FFFFFF;\n",
              "    }\n",
              "  </style>\n",
              "\n",
              "      <script>\n",
              "        const buttonEl =\n",
              "          document.querySelector('#df-2775d125-cfd6-4625-8eda-dd896dd055bc button.colab-df-convert');\n",
              "        buttonEl.style.display =\n",
              "          google.colab.kernel.accessAllowed ? 'block' : 'none';\n",
              "\n",
              "        async function convertToInteractive(key) {\n",
              "          const element = document.querySelector('#df-2775d125-cfd6-4625-8eda-dd896dd055bc');\n",
              "          const dataTable =\n",
              "            await google.colab.kernel.invokeFunction('convertToInteractive',\n",
              "                                                     [key], {});\n",
              "          if (!dataTable) return;\n",
              "\n",
              "          const docLinkHtml = 'Like what you see? Visit the ' +\n",
              "            '<a target=\"_blank\" href=https://colab.research.google.com/notebooks/data_table.ipynb>data table notebook</a>'\n",
              "            + ' to learn more about interactive tables.';\n",
              "          element.innerHTML = '';\n",
              "          dataTable['output_type'] = 'display_data';\n",
              "          await google.colab.output.renderOutput(dataTable, element);\n",
              "          const docLink = document.createElement('div');\n",
              "          docLink.innerHTML = docLinkHtml;\n",
              "          element.appendChild(docLink);\n",
              "        }\n",
              "      </script>\n",
              "    </div>\n",
              "  </div>\n",
              "  "
            ]
          },
          "metadata": {},
          "execution_count": 8
        }
      ],
      "source": [
        "aapl.head(5)"
      ]
    },
    {
      "cell_type": "code",
      "execution_count": null,
      "metadata": {
        "colab": {
          "base_uri": "https://localhost:8080/"
        },
        "id": "ua-NzYS9p3VT",
        "outputId": "04470811-d2dc-4db1-a1e9-60ee90eba8d5"
      },
      "outputs": [
        {
          "output_type": "execute_result",
          "data": {
            "text/plain": [
              "             Date       Open       High        Low      Close  Adj Close  \\\n",
              "10093  2020-03-26  45.779999  47.500000  45.400002  47.500000  47.500000   \n",
              "10094  2020-03-27  46.320000  47.980000  45.900002  46.580002  46.580002   \n",
              "10095  2020-03-30  47.240002  48.459999  46.660000  47.860001  47.860001   \n",
              "10096  2020-03-31  47.930000  48.529999  45.160000  45.480000  45.480000   \n",
              "10097  2020-04-01  44.180000  46.849998  43.160000  43.660000  43.660000   \n",
              "\n",
              "         Volume  \n",
              "10093  73680200  \n",
              "10094  74599200  \n",
              "10095  68486600  \n",
              "10096  83483700  \n",
              "10097  91895000  "
            ],
            "text/html": [
              "\n",
              "  <div id=\"df-8475206a-5a90-4141-8910-b1a93d32a3f6\">\n",
              "    <div class=\"colab-df-container\">\n",
              "      <div>\n",
              "<style scoped>\n",
              "    .dataframe tbody tr th:only-of-type {\n",
              "        vertical-align: middle;\n",
              "    }\n",
              "\n",
              "    .dataframe tbody tr th {\n",
              "        vertical-align: top;\n",
              "    }\n",
              "\n",
              "    .dataframe thead th {\n",
              "        text-align: right;\n",
              "    }\n",
              "</style>\n",
              "<table border=\"1\" class=\"dataframe\">\n",
              "  <thead>\n",
              "    <tr style=\"text-align: right;\">\n",
              "      <th></th>\n",
              "      <th>Date</th>\n",
              "      <th>Open</th>\n",
              "      <th>High</th>\n",
              "      <th>Low</th>\n",
              "      <th>Close</th>\n",
              "      <th>Adj Close</th>\n",
              "      <th>Volume</th>\n",
              "    </tr>\n",
              "  </thead>\n",
              "  <tbody>\n",
              "    <tr>\n",
              "      <th>10093</th>\n",
              "      <td>2020-03-26</td>\n",
              "      <td>45.779999</td>\n",
              "      <td>47.500000</td>\n",
              "      <td>45.400002</td>\n",
              "      <td>47.500000</td>\n",
              "      <td>47.500000</td>\n",
              "      <td>73680200</td>\n",
              "    </tr>\n",
              "    <tr>\n",
              "      <th>10094</th>\n",
              "      <td>2020-03-27</td>\n",
              "      <td>46.320000</td>\n",
              "      <td>47.980000</td>\n",
              "      <td>45.900002</td>\n",
              "      <td>46.580002</td>\n",
              "      <td>46.580002</td>\n",
              "      <td>74599200</td>\n",
              "    </tr>\n",
              "    <tr>\n",
              "      <th>10095</th>\n",
              "      <td>2020-03-30</td>\n",
              "      <td>47.240002</td>\n",
              "      <td>48.459999</td>\n",
              "      <td>46.660000</td>\n",
              "      <td>47.860001</td>\n",
              "      <td>47.860001</td>\n",
              "      <td>68486600</td>\n",
              "    </tr>\n",
              "    <tr>\n",
              "      <th>10096</th>\n",
              "      <td>2020-03-31</td>\n",
              "      <td>47.930000</td>\n",
              "      <td>48.529999</td>\n",
              "      <td>45.160000</td>\n",
              "      <td>45.480000</td>\n",
              "      <td>45.480000</td>\n",
              "      <td>83483700</td>\n",
              "    </tr>\n",
              "    <tr>\n",
              "      <th>10097</th>\n",
              "      <td>2020-04-01</td>\n",
              "      <td>44.180000</td>\n",
              "      <td>46.849998</td>\n",
              "      <td>43.160000</td>\n",
              "      <td>43.660000</td>\n",
              "      <td>43.660000</td>\n",
              "      <td>91895000</td>\n",
              "    </tr>\n",
              "  </tbody>\n",
              "</table>\n",
              "</div>\n",
              "      <button class=\"colab-df-convert\" onclick=\"convertToInteractive('df-8475206a-5a90-4141-8910-b1a93d32a3f6')\"\n",
              "              title=\"Convert this dataframe to an interactive table.\"\n",
              "              style=\"display:none;\">\n",
              "        \n",
              "  <svg xmlns=\"http://www.w3.org/2000/svg\" height=\"24px\"viewBox=\"0 0 24 24\"\n",
              "       width=\"24px\">\n",
              "    <path d=\"M0 0h24v24H0V0z\" fill=\"none\"/>\n",
              "    <path d=\"M18.56 5.44l.94 2.06.94-2.06 2.06-.94-2.06-.94-.94-2.06-.94 2.06-2.06.94zm-11 1L8.5 8.5l.94-2.06 2.06-.94-2.06-.94L8.5 2.5l-.94 2.06-2.06.94zm10 10l.94 2.06.94-2.06 2.06-.94-2.06-.94-.94-2.06-.94 2.06-2.06.94z\"/><path d=\"M17.41 7.96l-1.37-1.37c-.4-.4-.92-.59-1.43-.59-.52 0-1.04.2-1.43.59L10.3 9.45l-7.72 7.72c-.78.78-.78 2.05 0 2.83L4 21.41c.39.39.9.59 1.41.59.51 0 1.02-.2 1.41-.59l7.78-7.78 2.81-2.81c.8-.78.8-2.07 0-2.86zM5.41 20L4 18.59l7.72-7.72 1.47 1.35L5.41 20z\"/>\n",
              "  </svg>\n",
              "      </button>\n",
              "      \n",
              "  <style>\n",
              "    .colab-df-container {\n",
              "      display:flex;\n",
              "      flex-wrap:wrap;\n",
              "      gap: 12px;\n",
              "    }\n",
              "\n",
              "    .colab-df-convert {\n",
              "      background-color: #E8F0FE;\n",
              "      border: none;\n",
              "      border-radius: 50%;\n",
              "      cursor: pointer;\n",
              "      display: none;\n",
              "      fill: #1967D2;\n",
              "      height: 32px;\n",
              "      padding: 0 0 0 0;\n",
              "      width: 32px;\n",
              "    }\n",
              "\n",
              "    .colab-df-convert:hover {\n",
              "      background-color: #E2EBFA;\n",
              "      box-shadow: 0px 1px 2px rgba(60, 64, 67, 0.3), 0px 1px 3px 1px rgba(60, 64, 67, 0.15);\n",
              "      fill: #174EA6;\n",
              "    }\n",
              "\n",
              "    [theme=dark] .colab-df-convert {\n",
              "      background-color: #3B4455;\n",
              "      fill: #D2E3FC;\n",
              "    }\n",
              "\n",
              "    [theme=dark] .colab-df-convert:hover {\n",
              "      background-color: #434B5C;\n",
              "      box-shadow: 0px 1px 3px 1px rgba(0, 0, 0, 0.15);\n",
              "      filter: drop-shadow(0px 1px 2px rgba(0, 0, 0, 0.3));\n",
              "      fill: #FFFFFF;\n",
              "    }\n",
              "  </style>\n",
              "\n",
              "      <script>\n",
              "        const buttonEl =\n",
              "          document.querySelector('#df-8475206a-5a90-4141-8910-b1a93d32a3f6 button.colab-df-convert');\n",
              "        buttonEl.style.display =\n",
              "          google.colab.kernel.accessAllowed ? 'block' : 'none';\n",
              "\n",
              "        async function convertToInteractive(key) {\n",
              "          const element = document.querySelector('#df-8475206a-5a90-4141-8910-b1a93d32a3f6');\n",
              "          const dataTable =\n",
              "            await google.colab.kernel.invokeFunction('convertToInteractive',\n",
              "                                                     [key], {});\n",
              "          if (!dataTable) return;\n",
              "\n",
              "          const docLinkHtml = 'Like what you see? Visit the ' +\n",
              "            '<a target=\"_blank\" href=https://colab.research.google.com/notebooks/data_table.ipynb>data table notebook</a>'\n",
              "            + ' to learn more about interactive tables.';\n",
              "          element.innerHTML = '';\n",
              "          dataTable['output_type'] = 'display_data';\n",
              "          await google.colab.output.renderOutput(dataTable, element);\n",
              "          const docLink = document.createElement('div');\n",
              "          docLink.innerHTML = docLinkHtml;\n",
              "          element.appendChild(docLink);\n",
              "        }\n",
              "      </script>\n",
              "    </div>\n",
              "  </div>\n",
              "  "
            ]
          },
          "metadata": {},
          "execution_count": 9
        }
      ],
      "source": [
        "amd.tail(5)"
      ]
    },
    {
      "cell_type": "code",
      "execution_count": null,
      "metadata": {
        "colab": {
          "base_uri": "https://localhost:8080/"
        },
        "id": "GEw1DAaMp6Ul",
        "outputId": "030d7489-2cec-4810-de65-adce3c6e1ce7"
      },
      "outputs": [
        {
          "output_type": "execute_result",
          "data": {
            "text/plain": [
              "            Date        Open        High         Low       Close   Adj Close  \\\n",
              "9904  2020-03-26  246.520004  258.679993  246.360001  258.440002  258.440002   \n",
              "9905  2020-03-27  252.750000  255.869995  247.050003  247.740005  247.740005   \n",
              "9906  2020-03-30  250.740005  255.520004  249.399994  254.809998  254.809998   \n",
              "9907  2020-03-31  255.600006  262.489990  252.000000  254.289993  254.289993   \n",
              "9908  2020-04-01  246.500000  248.720001  239.130005  240.910004  240.910004   \n",
              "\n",
              "        Volume  \n",
              "9904  63021800  \n",
              "9905  51054200  \n",
              "9906  41994100  \n",
              "9907  49250500  \n",
              "9908  43956200  "
            ],
            "text/html": [
              "\n",
              "  <div id=\"df-010c941a-986b-49ac-a01a-ba9ebcba2e96\">\n",
              "    <div class=\"colab-df-container\">\n",
              "      <div>\n",
              "<style scoped>\n",
              "    .dataframe tbody tr th:only-of-type {\n",
              "        vertical-align: middle;\n",
              "    }\n",
              "\n",
              "    .dataframe tbody tr th {\n",
              "        vertical-align: top;\n",
              "    }\n",
              "\n",
              "    .dataframe thead th {\n",
              "        text-align: right;\n",
              "    }\n",
              "</style>\n",
              "<table border=\"1\" class=\"dataframe\">\n",
              "  <thead>\n",
              "    <tr style=\"text-align: right;\">\n",
              "      <th></th>\n",
              "      <th>Date</th>\n",
              "      <th>Open</th>\n",
              "      <th>High</th>\n",
              "      <th>Low</th>\n",
              "      <th>Close</th>\n",
              "      <th>Adj Close</th>\n",
              "      <th>Volume</th>\n",
              "    </tr>\n",
              "  </thead>\n",
              "  <tbody>\n",
              "    <tr>\n",
              "      <th>9904</th>\n",
              "      <td>2020-03-26</td>\n",
              "      <td>246.520004</td>\n",
              "      <td>258.679993</td>\n",
              "      <td>246.360001</td>\n",
              "      <td>258.440002</td>\n",
              "      <td>258.440002</td>\n",
              "      <td>63021800</td>\n",
              "    </tr>\n",
              "    <tr>\n",
              "      <th>9905</th>\n",
              "      <td>2020-03-27</td>\n",
              "      <td>252.750000</td>\n",
              "      <td>255.869995</td>\n",
              "      <td>247.050003</td>\n",
              "      <td>247.740005</td>\n",
              "      <td>247.740005</td>\n",
              "      <td>51054200</td>\n",
              "    </tr>\n",
              "    <tr>\n",
              "      <th>9906</th>\n",
              "      <td>2020-03-30</td>\n",
              "      <td>250.740005</td>\n",
              "      <td>255.520004</td>\n",
              "      <td>249.399994</td>\n",
              "      <td>254.809998</td>\n",
              "      <td>254.809998</td>\n",
              "      <td>41994100</td>\n",
              "    </tr>\n",
              "    <tr>\n",
              "      <th>9907</th>\n",
              "      <td>2020-03-31</td>\n",
              "      <td>255.600006</td>\n",
              "      <td>262.489990</td>\n",
              "      <td>252.000000</td>\n",
              "      <td>254.289993</td>\n",
              "      <td>254.289993</td>\n",
              "      <td>49250500</td>\n",
              "    </tr>\n",
              "    <tr>\n",
              "      <th>9908</th>\n",
              "      <td>2020-04-01</td>\n",
              "      <td>246.500000</td>\n",
              "      <td>248.720001</td>\n",
              "      <td>239.130005</td>\n",
              "      <td>240.910004</td>\n",
              "      <td>240.910004</td>\n",
              "      <td>43956200</td>\n",
              "    </tr>\n",
              "  </tbody>\n",
              "</table>\n",
              "</div>\n",
              "      <button class=\"colab-df-convert\" onclick=\"convertToInteractive('df-010c941a-986b-49ac-a01a-ba9ebcba2e96')\"\n",
              "              title=\"Convert this dataframe to an interactive table.\"\n",
              "              style=\"display:none;\">\n",
              "        \n",
              "  <svg xmlns=\"http://www.w3.org/2000/svg\" height=\"24px\"viewBox=\"0 0 24 24\"\n",
              "       width=\"24px\">\n",
              "    <path d=\"M0 0h24v24H0V0z\" fill=\"none\"/>\n",
              "    <path d=\"M18.56 5.44l.94 2.06.94-2.06 2.06-.94-2.06-.94-.94-2.06-.94 2.06-2.06.94zm-11 1L8.5 8.5l.94-2.06 2.06-.94-2.06-.94L8.5 2.5l-.94 2.06-2.06.94zm10 10l.94 2.06.94-2.06 2.06-.94-2.06-.94-.94-2.06-.94 2.06-2.06.94z\"/><path d=\"M17.41 7.96l-1.37-1.37c-.4-.4-.92-.59-1.43-.59-.52 0-1.04.2-1.43.59L10.3 9.45l-7.72 7.72c-.78.78-.78 2.05 0 2.83L4 21.41c.39.39.9.59 1.41.59.51 0 1.02-.2 1.41-.59l7.78-7.78 2.81-2.81c.8-.78.8-2.07 0-2.86zM5.41 20L4 18.59l7.72-7.72 1.47 1.35L5.41 20z\"/>\n",
              "  </svg>\n",
              "      </button>\n",
              "      \n",
              "  <style>\n",
              "    .colab-df-container {\n",
              "      display:flex;\n",
              "      flex-wrap:wrap;\n",
              "      gap: 12px;\n",
              "    }\n",
              "\n",
              "    .colab-df-convert {\n",
              "      background-color: #E8F0FE;\n",
              "      border: none;\n",
              "      border-radius: 50%;\n",
              "      cursor: pointer;\n",
              "      display: none;\n",
              "      fill: #1967D2;\n",
              "      height: 32px;\n",
              "      padding: 0 0 0 0;\n",
              "      width: 32px;\n",
              "    }\n",
              "\n",
              "    .colab-df-convert:hover {\n",
              "      background-color: #E2EBFA;\n",
              "      box-shadow: 0px 1px 2px rgba(60, 64, 67, 0.3), 0px 1px 3px 1px rgba(60, 64, 67, 0.15);\n",
              "      fill: #174EA6;\n",
              "    }\n",
              "\n",
              "    [theme=dark] .colab-df-convert {\n",
              "      background-color: #3B4455;\n",
              "      fill: #D2E3FC;\n",
              "    }\n",
              "\n",
              "    [theme=dark] .colab-df-convert:hover {\n",
              "      background-color: #434B5C;\n",
              "      box-shadow: 0px 1px 3px 1px rgba(0, 0, 0, 0.15);\n",
              "      filter: drop-shadow(0px 1px 2px rgba(0, 0, 0, 0.3));\n",
              "      fill: #FFFFFF;\n",
              "    }\n",
              "  </style>\n",
              "\n",
              "      <script>\n",
              "        const buttonEl =\n",
              "          document.querySelector('#df-010c941a-986b-49ac-a01a-ba9ebcba2e96 button.colab-df-convert');\n",
              "        buttonEl.style.display =\n",
              "          google.colab.kernel.accessAllowed ? 'block' : 'none';\n",
              "\n",
              "        async function convertToInteractive(key) {\n",
              "          const element = document.querySelector('#df-010c941a-986b-49ac-a01a-ba9ebcba2e96');\n",
              "          const dataTable =\n",
              "            await google.colab.kernel.invokeFunction('convertToInteractive',\n",
              "                                                     [key], {});\n",
              "          if (!dataTable) return;\n",
              "\n",
              "          const docLinkHtml = 'Like what you see? Visit the ' +\n",
              "            '<a target=\"_blank\" href=https://colab.research.google.com/notebooks/data_table.ipynb>data table notebook</a>'\n",
              "            + ' to learn more about interactive tables.';\n",
              "          element.innerHTML = '';\n",
              "          dataTable['output_type'] = 'display_data';\n",
              "          await google.colab.output.renderOutput(dataTable, element);\n",
              "          const docLink = document.createElement('div');\n",
              "          docLink.innerHTML = docLinkHtml;\n",
              "          element.appendChild(docLink);\n",
              "        }\n",
              "      </script>\n",
              "    </div>\n",
              "  </div>\n",
              "  "
            ]
          },
          "metadata": {},
          "execution_count": 10
        }
      ],
      "source": [
        "aapl.tail(5)"
      ]
    },
    {
      "cell_type": "code",
      "execution_count": null,
      "metadata": {
        "id": "Y7-YGzIQBWZ3"
      },
      "outputs": [],
      "source": [
        "amd['Date'] = pd.to_datetime(amd['Date'])"
      ]
    },
    {
      "cell_type": "code",
      "execution_count": null,
      "metadata": {
        "id": "kDCYCj-kBSuw"
      },
      "outputs": [],
      "source": [
        "aapl['Date'] = pd.to_datetime(aapl['Date'])"
      ]
    },
    {
      "cell_type": "markdown",
      "metadata": {
        "id": "awP4xBCiJfKP"
      },
      "source": [
        "- Datatype kolom date masih object sehingga diubah menjadi datetime\n",
        "- Berdasarkan fungsi info, AMD memiliki jumlah lebih banyak daripada AAPL\n",
        "- Time series dataset memiliki jangka waktu 1980-2020"
      ]
    },
    {
      "cell_type": "code",
      "execution_count": null,
      "metadata": {
        "colab": {
          "base_uri": "https://localhost:8080/"
        },
        "id": "9N4eczONqQKW",
        "outputId": "37dcaae2-7218-4b98-ae20-759559444ee4"
      },
      "outputs": [
        {
          "output_type": "stream",
          "name": "stdout",
          "text": [
            "<class 'pandas.core.frame.DataFrame'>\n",
            "RangeIndex: 10098 entries, 0 to 10097\n",
            "Data columns (total 7 columns):\n",
            " #   Column     Non-Null Count  Dtype         \n",
            "---  ------     --------------  -----         \n",
            " 0   Date       10098 non-null  datetime64[ns]\n",
            " 1   Open       10098 non-null  float64       \n",
            " 2   High       10098 non-null  float64       \n",
            " 3   Low        10098 non-null  float64       \n",
            " 4   Close      10098 non-null  float64       \n",
            " 5   Adj Close  10098 non-null  float64       \n",
            " 6   Volume     10098 non-null  int64         \n",
            "dtypes: datetime64[ns](1), float64(5), int64(1)\n",
            "memory usage: 552.4 KB\n"
          ]
        }
      ],
      "source": [
        "amd.info()"
      ]
    },
    {
      "cell_type": "code",
      "source": [
        "aapl.info()"
      ],
      "metadata": {
        "colab": {
          "base_uri": "https://localhost:8080/"
        },
        "id": "HJi_hSfih8pZ",
        "outputId": "71e87186-e067-44b8-9197-5ce780bbfb6a"
      },
      "execution_count": null,
      "outputs": [
        {
          "output_type": "stream",
          "name": "stdout",
          "text": [
            "<class 'pandas.core.frame.DataFrame'>\n",
            "RangeIndex: 9909 entries, 0 to 9908\n",
            "Data columns (total 7 columns):\n",
            " #   Column     Non-Null Count  Dtype         \n",
            "---  ------     --------------  -----         \n",
            " 0   Date       9909 non-null   datetime64[ns]\n",
            " 1   Open       9909 non-null   float64       \n",
            " 2   High       9909 non-null   float64       \n",
            " 3   Low        9909 non-null   float64       \n",
            " 4   Close      9909 non-null   float64       \n",
            " 5   Adj Close  9909 non-null   float64       \n",
            " 6   Volume     9909 non-null   int64         \n",
            "dtypes: datetime64[ns](1), float64(5), int64(1)\n",
            "memory usage: 542.0 KB\n"
          ]
        }
      ]
    },
    {
      "cell_type": "code",
      "execution_count": null,
      "metadata": {
        "colab": {
          "base_uri": "https://localhost:8080/"
        },
        "id": "tGsPnmjEJjOf",
        "outputId": "a8a65952-2cf8-4b64-a122-f8859763b0d6"
      },
      "outputs": [
        {
          "output_type": "execute_result",
          "data": {
            "text/plain": [
              "Date         0\n",
              "Open         0\n",
              "High         0\n",
              "Low          0\n",
              "Close        0\n",
              "Adj Close    0\n",
              "Volume       0\n",
              "dtype: int64"
            ]
          },
          "metadata": {},
          "execution_count": 15
        }
      ],
      "source": [
        "amd.isna().sum()"
      ]
    },
    {
      "cell_type": "code",
      "execution_count": null,
      "metadata": {
        "colab": {
          "base_uri": "https://localhost:8080/"
        },
        "id": "6qOtriyXoe3w",
        "outputId": "214d1ae2-ff93-4f99-d469-dd6b2237dbee"
      },
      "outputs": [
        {
          "output_type": "execute_result",
          "data": {
            "text/plain": [
              "Date         0\n",
              "Open         0\n",
              "High         0\n",
              "Low          0\n",
              "Close        0\n",
              "Adj Close    0\n",
              "Volume       0\n",
              "dtype: int64"
            ]
          },
          "metadata": {},
          "execution_count": 16
        }
      ],
      "source": [
        "aapl.isna().sum()"
      ]
    },
    {
      "cell_type": "code",
      "execution_count": null,
      "metadata": {
        "colab": {
          "base_uri": "https://localhost:8080/"
        },
        "id": "9DmGzWRBrG-K",
        "outputId": "0d52fe38-f989-4198-d644-f2252e15e88a"
      },
      "outputs": [
        {
          "output_type": "execute_result",
          "data": {
            "text/plain": [
              "0"
            ]
          },
          "metadata": {},
          "execution_count": 17
        }
      ],
      "source": [
        "amd.duplicated().sum()"
      ]
    },
    {
      "cell_type": "code",
      "execution_count": null,
      "metadata": {
        "colab": {
          "base_uri": "https://localhost:8080/"
        },
        "id": "iUS3G0eUrI5F",
        "outputId": "59e288a0-bee2-473c-bd83-18da55011159"
      },
      "outputs": [
        {
          "output_type": "execute_result",
          "data": {
            "text/plain": [
              "0"
            ]
          },
          "metadata": {},
          "execution_count": 18
        }
      ],
      "source": [
        "aapl.duplicated().sum()"
      ]
    },
    {
      "cell_type": "code",
      "execution_count": null,
      "metadata": {
        "colab": {
          "base_uri": "https://localhost:8080/"
        },
        "id": "AXFOr6wRo0AW",
        "outputId": "e72c61b2-fe7c-4c28-b955-ecf51681c8f3"
      },
      "outputs": [
        {
          "output_type": "execute_result",
          "data": {
            "text/plain": [
              "             count          mean           std   min           25%  \\\n",
              "Open       10098.0  1.088914e+01  8.615288e+00  0.00  4.562500e+00   \n",
              "High       10098.0  1.146215e+01  8.475056e+00  1.69  5.062500e+00   \n",
              "Low        10098.0  1.095870e+01  8.077069e+00  1.61  4.812500e+00   \n",
              "Close      10098.0  1.121080e+01  8.283645e+00  1.62  4.937500e+00   \n",
              "Adj Close  10098.0  1.121080e+01  8.283645e+00  1.62  4.937500e+00   \n",
              "Volume     10098.0  1.451625e+07  2.396199e+07  0.00  1.098600e+06   \n",
              "\n",
              "                    50%           75%           max  \n",
              "Open       9.062500e+00  1.474750e+01  5.844000e+01  \n",
              "High       9.280625e+00  1.500000e+01  5.927000e+01  \n",
              "Low        8.875000e+00  1.443563e+01  5.751000e+01  \n",
              "Close      9.062500e+00  1.470750e+01  5.890000e+01  \n",
              "Adj Close  9.062500e+00  1.470750e+01  5.890000e+01  \n",
              "Volume     5.518500e+06  1.742722e+07  3.250584e+08  "
            ],
            "text/html": [
              "\n",
              "  <div id=\"df-0a12f42d-36f2-4f1b-b920-01d775579605\">\n",
              "    <div class=\"colab-df-container\">\n",
              "      <div>\n",
              "<style scoped>\n",
              "    .dataframe tbody tr th:only-of-type {\n",
              "        vertical-align: middle;\n",
              "    }\n",
              "\n",
              "    .dataframe tbody tr th {\n",
              "        vertical-align: top;\n",
              "    }\n",
              "\n",
              "    .dataframe thead th {\n",
              "        text-align: right;\n",
              "    }\n",
              "</style>\n",
              "<table border=\"1\" class=\"dataframe\">\n",
              "  <thead>\n",
              "    <tr style=\"text-align: right;\">\n",
              "      <th></th>\n",
              "      <th>count</th>\n",
              "      <th>mean</th>\n",
              "      <th>std</th>\n",
              "      <th>min</th>\n",
              "      <th>25%</th>\n",
              "      <th>50%</th>\n",
              "      <th>75%</th>\n",
              "      <th>max</th>\n",
              "    </tr>\n",
              "  </thead>\n",
              "  <tbody>\n",
              "    <tr>\n",
              "      <th>Open</th>\n",
              "      <td>10098.0</td>\n",
              "      <td>1.088914e+01</td>\n",
              "      <td>8.615288e+00</td>\n",
              "      <td>0.00</td>\n",
              "      <td>4.562500e+00</td>\n",
              "      <td>9.062500e+00</td>\n",
              "      <td>1.474750e+01</td>\n",
              "      <td>5.844000e+01</td>\n",
              "    </tr>\n",
              "    <tr>\n",
              "      <th>High</th>\n",
              "      <td>10098.0</td>\n",
              "      <td>1.146215e+01</td>\n",
              "      <td>8.475056e+00</td>\n",
              "      <td>1.69</td>\n",
              "      <td>5.062500e+00</td>\n",
              "      <td>9.280625e+00</td>\n",
              "      <td>1.500000e+01</td>\n",
              "      <td>5.927000e+01</td>\n",
              "    </tr>\n",
              "    <tr>\n",
              "      <th>Low</th>\n",
              "      <td>10098.0</td>\n",
              "      <td>1.095870e+01</td>\n",
              "      <td>8.077069e+00</td>\n",
              "      <td>1.61</td>\n",
              "      <td>4.812500e+00</td>\n",
              "      <td>8.875000e+00</td>\n",
              "      <td>1.443563e+01</td>\n",
              "      <td>5.751000e+01</td>\n",
              "    </tr>\n",
              "    <tr>\n",
              "      <th>Close</th>\n",
              "      <td>10098.0</td>\n",
              "      <td>1.121080e+01</td>\n",
              "      <td>8.283645e+00</td>\n",
              "      <td>1.62</td>\n",
              "      <td>4.937500e+00</td>\n",
              "      <td>9.062500e+00</td>\n",
              "      <td>1.470750e+01</td>\n",
              "      <td>5.890000e+01</td>\n",
              "    </tr>\n",
              "    <tr>\n",
              "      <th>Adj Close</th>\n",
              "      <td>10098.0</td>\n",
              "      <td>1.121080e+01</td>\n",
              "      <td>8.283645e+00</td>\n",
              "      <td>1.62</td>\n",
              "      <td>4.937500e+00</td>\n",
              "      <td>9.062500e+00</td>\n",
              "      <td>1.470750e+01</td>\n",
              "      <td>5.890000e+01</td>\n",
              "    </tr>\n",
              "    <tr>\n",
              "      <th>Volume</th>\n",
              "      <td>10098.0</td>\n",
              "      <td>1.451625e+07</td>\n",
              "      <td>2.396199e+07</td>\n",
              "      <td>0.00</td>\n",
              "      <td>1.098600e+06</td>\n",
              "      <td>5.518500e+06</td>\n",
              "      <td>1.742722e+07</td>\n",
              "      <td>3.250584e+08</td>\n",
              "    </tr>\n",
              "  </tbody>\n",
              "</table>\n",
              "</div>\n",
              "      <button class=\"colab-df-convert\" onclick=\"convertToInteractive('df-0a12f42d-36f2-4f1b-b920-01d775579605')\"\n",
              "              title=\"Convert this dataframe to an interactive table.\"\n",
              "              style=\"display:none;\">\n",
              "        \n",
              "  <svg xmlns=\"http://www.w3.org/2000/svg\" height=\"24px\"viewBox=\"0 0 24 24\"\n",
              "       width=\"24px\">\n",
              "    <path d=\"M0 0h24v24H0V0z\" fill=\"none\"/>\n",
              "    <path d=\"M18.56 5.44l.94 2.06.94-2.06 2.06-.94-2.06-.94-.94-2.06-.94 2.06-2.06.94zm-11 1L8.5 8.5l.94-2.06 2.06-.94-2.06-.94L8.5 2.5l-.94 2.06-2.06.94zm10 10l.94 2.06.94-2.06 2.06-.94-2.06-.94-.94-2.06-.94 2.06-2.06.94z\"/><path d=\"M17.41 7.96l-1.37-1.37c-.4-.4-.92-.59-1.43-.59-.52 0-1.04.2-1.43.59L10.3 9.45l-7.72 7.72c-.78.78-.78 2.05 0 2.83L4 21.41c.39.39.9.59 1.41.59.51 0 1.02-.2 1.41-.59l7.78-7.78 2.81-2.81c.8-.78.8-2.07 0-2.86zM5.41 20L4 18.59l7.72-7.72 1.47 1.35L5.41 20z\"/>\n",
              "  </svg>\n",
              "      </button>\n",
              "      \n",
              "  <style>\n",
              "    .colab-df-container {\n",
              "      display:flex;\n",
              "      flex-wrap:wrap;\n",
              "      gap: 12px;\n",
              "    }\n",
              "\n",
              "    .colab-df-convert {\n",
              "      background-color: #E8F0FE;\n",
              "      border: none;\n",
              "      border-radius: 50%;\n",
              "      cursor: pointer;\n",
              "      display: none;\n",
              "      fill: #1967D2;\n",
              "      height: 32px;\n",
              "      padding: 0 0 0 0;\n",
              "      width: 32px;\n",
              "    }\n",
              "\n",
              "    .colab-df-convert:hover {\n",
              "      background-color: #E2EBFA;\n",
              "      box-shadow: 0px 1px 2px rgba(60, 64, 67, 0.3), 0px 1px 3px 1px rgba(60, 64, 67, 0.15);\n",
              "      fill: #174EA6;\n",
              "    }\n",
              "\n",
              "    [theme=dark] .colab-df-convert {\n",
              "      background-color: #3B4455;\n",
              "      fill: #D2E3FC;\n",
              "    }\n",
              "\n",
              "    [theme=dark] .colab-df-convert:hover {\n",
              "      background-color: #434B5C;\n",
              "      box-shadow: 0px 1px 3px 1px rgba(0, 0, 0, 0.15);\n",
              "      filter: drop-shadow(0px 1px 2px rgba(0, 0, 0, 0.3));\n",
              "      fill: #FFFFFF;\n",
              "    }\n",
              "  </style>\n",
              "\n",
              "      <script>\n",
              "        const buttonEl =\n",
              "          document.querySelector('#df-0a12f42d-36f2-4f1b-b920-01d775579605 button.colab-df-convert');\n",
              "        buttonEl.style.display =\n",
              "          google.colab.kernel.accessAllowed ? 'block' : 'none';\n",
              "\n",
              "        async function convertToInteractive(key) {\n",
              "          const element = document.querySelector('#df-0a12f42d-36f2-4f1b-b920-01d775579605');\n",
              "          const dataTable =\n",
              "            await google.colab.kernel.invokeFunction('convertToInteractive',\n",
              "                                                     [key], {});\n",
              "          if (!dataTable) return;\n",
              "\n",
              "          const docLinkHtml = 'Like what you see? Visit the ' +\n",
              "            '<a target=\"_blank\" href=https://colab.research.google.com/notebooks/data_table.ipynb>data table notebook</a>'\n",
              "            + ' to learn more about interactive tables.';\n",
              "          element.innerHTML = '';\n",
              "          dataTable['output_type'] = 'display_data';\n",
              "          await google.colab.output.renderOutput(dataTable, element);\n",
              "          const docLink = document.createElement('div');\n",
              "          docLink.innerHTML = docLinkHtml;\n",
              "          element.appendChild(docLink);\n",
              "        }\n",
              "      </script>\n",
              "    </div>\n",
              "  </div>\n",
              "  "
            ]
          },
          "metadata": {},
          "execution_count": 19
        }
      ],
      "source": [
        "amd.describe().T"
      ]
    },
    {
      "cell_type": "code",
      "execution_count": null,
      "metadata": {
        "colab": {
          "base_uri": "https://localhost:8080/"
        },
        "id": "2-x_RhfopH2t",
        "outputId": "300fb71c-0378-4553-c29b-66ec86b9cb50"
      },
      "outputs": [
        {
          "output_type": "execute_result",
          "data": {
            "text/plain": [
              "            count          mean           std            min           25%  \\\n",
              "Open       9909.0  3.260685e+01  5.841576e+01       0.198661  1.071429e+00   \n",
              "High       9909.0  3.293608e+01  5.900158e+01       0.198661  1.089286e+00   \n",
              "Low        9909.0  3.227756e+01  5.788304e+01       0.196429  1.048571e+00   \n",
              "Close      9909.0  3.261803e+01  5.847190e+01       0.196429  1.071429e+00   \n",
              "Adj Close  9909.0  3.057657e+01  5.674627e+01       0.155638  9.176431e-01   \n",
              "Volume     9909.0  8.582916e+07  8.597195e+07  347200.000000  3.304230e+07   \n",
              "\n",
              "                    50%           75%           max  \n",
              "Open       1.729286e+00  3.580000e+01  3.247400e+02  \n",
              "High       1.758929e+00  3.626571e+01  3.278500e+02  \n",
              "Low        1.696429e+00  3.532857e+01  3.233500e+02  \n",
              "Close      1.732143e+00  3.576143e+01  3.272000e+02  \n",
              "Adj Close  1.466154e+00  3.104237e+01  3.272000e+02  \n",
              "Volume     5.766490e+07  1.069992e+08  1.855410e+09  "
            ],
            "text/html": [
              "\n",
              "  <div id=\"df-f5ad846d-9dc1-4dad-9056-d72cb8626740\">\n",
              "    <div class=\"colab-df-container\">\n",
              "      <div>\n",
              "<style scoped>\n",
              "    .dataframe tbody tr th:only-of-type {\n",
              "        vertical-align: middle;\n",
              "    }\n",
              "\n",
              "    .dataframe tbody tr th {\n",
              "        vertical-align: top;\n",
              "    }\n",
              "\n",
              "    .dataframe thead th {\n",
              "        text-align: right;\n",
              "    }\n",
              "</style>\n",
              "<table border=\"1\" class=\"dataframe\">\n",
              "  <thead>\n",
              "    <tr style=\"text-align: right;\">\n",
              "      <th></th>\n",
              "      <th>count</th>\n",
              "      <th>mean</th>\n",
              "      <th>std</th>\n",
              "      <th>min</th>\n",
              "      <th>25%</th>\n",
              "      <th>50%</th>\n",
              "      <th>75%</th>\n",
              "      <th>max</th>\n",
              "    </tr>\n",
              "  </thead>\n",
              "  <tbody>\n",
              "    <tr>\n",
              "      <th>Open</th>\n",
              "      <td>9909.0</td>\n",
              "      <td>3.260685e+01</td>\n",
              "      <td>5.841576e+01</td>\n",
              "      <td>0.198661</td>\n",
              "      <td>1.071429e+00</td>\n",
              "      <td>1.729286e+00</td>\n",
              "      <td>3.580000e+01</td>\n",
              "      <td>3.247400e+02</td>\n",
              "    </tr>\n",
              "    <tr>\n",
              "      <th>High</th>\n",
              "      <td>9909.0</td>\n",
              "      <td>3.293608e+01</td>\n",
              "      <td>5.900158e+01</td>\n",
              "      <td>0.198661</td>\n",
              "      <td>1.089286e+00</td>\n",
              "      <td>1.758929e+00</td>\n",
              "      <td>3.626571e+01</td>\n",
              "      <td>3.278500e+02</td>\n",
              "    </tr>\n",
              "    <tr>\n",
              "      <th>Low</th>\n",
              "      <td>9909.0</td>\n",
              "      <td>3.227756e+01</td>\n",
              "      <td>5.788304e+01</td>\n",
              "      <td>0.196429</td>\n",
              "      <td>1.048571e+00</td>\n",
              "      <td>1.696429e+00</td>\n",
              "      <td>3.532857e+01</td>\n",
              "      <td>3.233500e+02</td>\n",
              "    </tr>\n",
              "    <tr>\n",
              "      <th>Close</th>\n",
              "      <td>9909.0</td>\n",
              "      <td>3.261803e+01</td>\n",
              "      <td>5.847190e+01</td>\n",
              "      <td>0.196429</td>\n",
              "      <td>1.071429e+00</td>\n",
              "      <td>1.732143e+00</td>\n",
              "      <td>3.576143e+01</td>\n",
              "      <td>3.272000e+02</td>\n",
              "    </tr>\n",
              "    <tr>\n",
              "      <th>Adj Close</th>\n",
              "      <td>9909.0</td>\n",
              "      <td>3.057657e+01</td>\n",
              "      <td>5.674627e+01</td>\n",
              "      <td>0.155638</td>\n",
              "      <td>9.176431e-01</td>\n",
              "      <td>1.466154e+00</td>\n",
              "      <td>3.104237e+01</td>\n",
              "      <td>3.272000e+02</td>\n",
              "    </tr>\n",
              "    <tr>\n",
              "      <th>Volume</th>\n",
              "      <td>9909.0</td>\n",
              "      <td>8.582916e+07</td>\n",
              "      <td>8.597195e+07</td>\n",
              "      <td>347200.000000</td>\n",
              "      <td>3.304230e+07</td>\n",
              "      <td>5.766490e+07</td>\n",
              "      <td>1.069992e+08</td>\n",
              "      <td>1.855410e+09</td>\n",
              "    </tr>\n",
              "  </tbody>\n",
              "</table>\n",
              "</div>\n",
              "      <button class=\"colab-df-convert\" onclick=\"convertToInteractive('df-f5ad846d-9dc1-4dad-9056-d72cb8626740')\"\n",
              "              title=\"Convert this dataframe to an interactive table.\"\n",
              "              style=\"display:none;\">\n",
              "        \n",
              "  <svg xmlns=\"http://www.w3.org/2000/svg\" height=\"24px\"viewBox=\"0 0 24 24\"\n",
              "       width=\"24px\">\n",
              "    <path d=\"M0 0h24v24H0V0z\" fill=\"none\"/>\n",
              "    <path d=\"M18.56 5.44l.94 2.06.94-2.06 2.06-.94-2.06-.94-.94-2.06-.94 2.06-2.06.94zm-11 1L8.5 8.5l.94-2.06 2.06-.94-2.06-.94L8.5 2.5l-.94 2.06-2.06.94zm10 10l.94 2.06.94-2.06 2.06-.94-2.06-.94-.94-2.06-.94 2.06-2.06.94z\"/><path d=\"M17.41 7.96l-1.37-1.37c-.4-.4-.92-.59-1.43-.59-.52 0-1.04.2-1.43.59L10.3 9.45l-7.72 7.72c-.78.78-.78 2.05 0 2.83L4 21.41c.39.39.9.59 1.41.59.51 0 1.02-.2 1.41-.59l7.78-7.78 2.81-2.81c.8-.78.8-2.07 0-2.86zM5.41 20L4 18.59l7.72-7.72 1.47 1.35L5.41 20z\"/>\n",
              "  </svg>\n",
              "      </button>\n",
              "      \n",
              "  <style>\n",
              "    .colab-df-container {\n",
              "      display:flex;\n",
              "      flex-wrap:wrap;\n",
              "      gap: 12px;\n",
              "    }\n",
              "\n",
              "    .colab-df-convert {\n",
              "      background-color: #E8F0FE;\n",
              "      border: none;\n",
              "      border-radius: 50%;\n",
              "      cursor: pointer;\n",
              "      display: none;\n",
              "      fill: #1967D2;\n",
              "      height: 32px;\n",
              "      padding: 0 0 0 0;\n",
              "      width: 32px;\n",
              "    }\n",
              "\n",
              "    .colab-df-convert:hover {\n",
              "      background-color: #E2EBFA;\n",
              "      box-shadow: 0px 1px 2px rgba(60, 64, 67, 0.3), 0px 1px 3px 1px rgba(60, 64, 67, 0.15);\n",
              "      fill: #174EA6;\n",
              "    }\n",
              "\n",
              "    [theme=dark] .colab-df-convert {\n",
              "      background-color: #3B4455;\n",
              "      fill: #D2E3FC;\n",
              "    }\n",
              "\n",
              "    [theme=dark] .colab-df-convert:hover {\n",
              "      background-color: #434B5C;\n",
              "      box-shadow: 0px 1px 3px 1px rgba(0, 0, 0, 0.15);\n",
              "      filter: drop-shadow(0px 1px 2px rgba(0, 0, 0, 0.3));\n",
              "      fill: #FFFFFF;\n",
              "    }\n",
              "  </style>\n",
              "\n",
              "      <script>\n",
              "        const buttonEl =\n",
              "          document.querySelector('#df-f5ad846d-9dc1-4dad-9056-d72cb8626740 button.colab-df-convert');\n",
              "        buttonEl.style.display =\n",
              "          google.colab.kernel.accessAllowed ? 'block' : 'none';\n",
              "\n",
              "        async function convertToInteractive(key) {\n",
              "          const element = document.querySelector('#df-f5ad846d-9dc1-4dad-9056-d72cb8626740');\n",
              "          const dataTable =\n",
              "            await google.colab.kernel.invokeFunction('convertToInteractive',\n",
              "                                                     [key], {});\n",
              "          if (!dataTable) return;\n",
              "\n",
              "          const docLinkHtml = 'Like what you see? Visit the ' +\n",
              "            '<a target=\"_blank\" href=https://colab.research.google.com/notebooks/data_table.ipynb>data table notebook</a>'\n",
              "            + ' to learn more about interactive tables.';\n",
              "          element.innerHTML = '';\n",
              "          dataTable['output_type'] = 'display_data';\n",
              "          await google.colab.output.renderOutput(dataTable, element);\n",
              "          const docLink = document.createElement('div');\n",
              "          docLink.innerHTML = docLinkHtml;\n",
              "          element.appendChild(docLink);\n",
              "        }\n",
              "      </script>\n",
              "    </div>\n",
              "  </div>\n",
              "  "
            ]
          },
          "metadata": {},
          "execution_count": 20
        }
      ],
      "source": [
        "aapl.describe().T"
      ]
    },
    {
      "cell_type": "markdown",
      "metadata": {
        "id": "i8T-VLlUohLu"
      },
      "source": [
        "- Tidak terdapat missing value pada kedua dataset\n",
        "- Tidak terdapat duplicated rows\n",
        "- Mengubah display format"
      ]
    },
    {
      "cell_type": "markdown",
      "metadata": {
        "id": "WMkHcBsgnQuV"
      },
      "source": [
        "##Exploratory Data Analysis"
      ]
    },
    {
      "cell_type": "code",
      "execution_count": null,
      "metadata": {
        "colab": {
          "base_uri": "https://localhost:8080/",
          "height": 470
        },
        "id": "h0qdOFd6baPR",
        "outputId": "f237046a-889b-4e3e-99da-11451aa29665"
      },
      "outputs": [
        {
          "output_type": "display_data",
          "data": {
            "text/plain": [
              "<Figure size 640x480 with 6 Axes>"
            ],
            "image/png": "[encoded data removed]"
          },
          "metadata": {}
        }
      ],
      "source": [
        "amd.iloc[:, 1:].hist(bins = 6)\n",
        "plt.subplots_adjust(hspace=0.7)\n",
        "plt.show()"
      ]
    },
    {
      "cell_type": "code",
      "execution_count": null,
      "metadata": {
        "colab": {
          "base_uri": "https://localhost:8080/",
          "height": 470
        },
        "id": "tKkr2zIgN3df",
        "outputId": "135584bd-5921-47d7-bdbb-15bc8cfd58a7"
      },
      "outputs": [
        {
          "output_type": "display_data",
          "data": {
            "text/plain": [
              "<Figure size 640x480 with 6 Axes>"
            ],
            "image/png": "[encoded data removed]"
          },
          "metadata": {}
        }
      ],
      "source": [
        "aapl.iloc[:, 1:].hist(bins = 6)\n",
        "plt.subplots_adjust(hspace=0.7)\n",
        "plt.show()"
      ]
    },
    {
      "cell_type": "markdown",
      "metadata": {
        "id": "jTLOzd5sbOj2"
      },
      "source": [
        "- Data distribution terdapat positive skew, sehingga menggunakan square root transorm untuk memperbaiki data distribution.\n",
        "- Pemilihan square root transform dikarenakan adanya zero values yang terdapat di dalam data."
      ]
    },
    {
      "cell_type": "code",
      "execution_count": null,
      "metadata": {
        "id": "BrErnLoxNyzL"
      },
      "outputs": [],
      "source": [
        "amdsqrt = amd.copy()\n",
        "\n",
        "amdsqrt['Open'] = np.sqrt(amd['Open'])\n",
        "amdsqrt['Close'] = np.sqrt(amd['Close'])\n",
        "amdsqrt['High'] = np.sqrt(amd['High'])\n",
        "amdsqrt['Low'] = np.sqrt(amd['Low'])\n",
        "amdsqrt['Adj Close'] = np.sqrt(amd['Adj Close'])\n",
        "amdsqrt['Volume'] = np.sqrt(amd['Volume'])"
      ]
    },
    {
      "cell_type": "code",
      "execution_count": null,
      "metadata": {
        "colab": {
          "base_uri": "https://localhost:8080/",
          "height": 452
        },
        "id": "-S9KKD0GQVVu",
        "outputId": "3bf42234-14b0-4847-a15e-109c6ca56ba4"
      },
      "outputs": [
        {
          "output_type": "display_data",
          "data": {
            "text/plain": [
              "<Figure size 640x480 with 9 Axes>"
            ],
            "image/png": "[encoded data removed]"
          },
          "metadata": {}
        }
      ],
      "source": [
        "amdsqrt.hist(bins = 6)\n",
        "plt.subplots_adjust(hspace=0.7)\n",
        "plt.show()"
      ]
    },
    {
      "cell_type": "markdown",
      "metadata": {
        "id": "nRKZE5EnbfLG"
      },
      "source": [
        "- Transform sudah cukup mengatasi skewed dalam data"
      ]
    },
    {
      "cell_type": "code",
      "execution_count": null,
      "metadata": {
        "id": "mJ315RQ-Taeg"
      },
      "outputs": [],
      "source": [
        "aaplsqrt = aapl.copy()\n",
        "\n",
        "aaplsqrt['Open'] = np.sqrt(aapl['Open'])\n",
        "aaplsqrt['Close'] = np.sqrt(aapl['Close'])\n",
        "aaplsqrt['High'] = np.sqrt(aapl['High'])\n",
        "aaplsqrt['Low'] = np.sqrt(aapl['Low'])\n",
        "aaplsqrt['Adj Close'] = np.sqrt(aapl['Adj Close'])\n",
        "aaplsqrt['Volume'] = np.sqrt(aapl['Volume'])"
      ]
    },
    {
      "cell_type": "code",
      "execution_count": null,
      "metadata": {
        "colab": {
          "base_uri": "https://localhost:8080/",
          "height": 452
        },
        "id": "k5phyzVBTf-d",
        "outputId": "e421f53f-d6d5-454f-f978-19c21feb1003"
      },
      "outputs": [
        {
          "output_type": "display_data",
          "data": {
            "text/plain": [
              "<Figure size 640x480 with 9 Axes>"
            ],
            "image/png": "[encoded data removed]"
          },
          "metadata": {}
        }
      ],
      "source": [
        "aaplsqrt.hist(bins = 6)\n",
        "plt.subplots_adjust(hspace=0.7)\n",
        "plt.show()"
      ]
    },
    {
      "cell_type": "code",
      "execution_count": null,
      "metadata": {
        "colab": {
          "base_uri": "https://localhost:8080/",
          "height": 319
        },
        "id": "7A5_CQY9T0V5",
        "outputId": "b955eaf3-82b1-412c-b66c-d7ee3505b34d"
      },
      "outputs": [
        {
          "output_type": "execute_result",
          "data": {
            "text/plain": [
              "             count         mean          std       min          25%  \\\n",
              "Open       10098.0     2.998108     1.378648  0.000000     2.136001   \n",
              "High       10098.0     3.187391     1.141411  1.300000     2.250000   \n",
              "Low        10098.0     3.116910     1.115213  1.268858     2.193741   \n",
              "Close      10098.0     3.152253     1.128817  1.272792     2.222049   \n",
              "Adj Close  10098.0     3.152253     1.128817  1.272792     2.222049   \n",
              "Volume     10098.0  2969.100957  2387.730057  0.000000  1048.141212   \n",
              "\n",
              "                   50%          75%           max  \n",
              "Open          3.010399     3.840247      7.644606  \n",
              "High          3.046412     3.872983      7.698701  \n",
              "Low           2.979094     3.799424      7.583535  \n",
              "Close         3.010399     3.835036      7.674634  \n",
              "Adj Close     3.010399     3.835036      7.674634  \n",
              "Volume     2349.148780  4174.592794  18029.376029  "
            ],
            "text/html": [
              "\n",
              "  <div id=\"df-0724bae4-8172-4506-8605-689f6bd10663\">\n",
              "    <div class=\"colab-df-container\">\n",
              "      <div>\n",
              "<style scoped>\n",
              "    .dataframe tbody tr th:only-of-type {\n",
              "        vertical-align: middle;\n",
              "    }\n",
              "\n",
              "    .dataframe tbody tr th {\n",
              "        vertical-align: top;\n",
              "    }\n",
              "\n",
              "    .dataframe thead th {\n",
              "        text-align: right;\n",
              "    }\n",
              "</style>\n",
              "<table border=\"1\" class=\"dataframe\">\n",
              "  <thead>\n",
              "    <tr style=\"text-align: right;\">\n",
              "      <th></th>\n",
              "      <th>count</th>\n",
              "      <th>mean</th>\n",
              "      <th>std</th>\n",
              "      <th>min</th>\n",
              "      <th>25%</th>\n",
              "      <th>50%</th>\n",
              "      <th>75%</th>\n",
              "      <th>max</th>\n",
              "    </tr>\n",
              "  </thead>\n",
              "  <tbody>\n",
              "    <tr>\n",
              "      <th>Open</th>\n",
              "      <td>10098.0</td>\n",
              "      <td>2.998108</td>\n",
              "      <td>1.378648</td>\n",
              "      <td>0.000000</td>\n",
              "      <td>2.136001</td>\n",
              "      <td>3.010399</td>\n",
              "      <td>3.840247</td>\n",
              "      <td>7.644606</td>\n",
              "    </tr>\n",
              "    <tr>\n",
              "      <th>High</th>\n",
              "      <td>10098.0</td>\n",
              "      <td>3.187391</td>\n",
              "      <td>1.141411</td>\n",
              "      <td>1.300000</td>\n",
              "      <td>2.250000</td>\n",
              "      <td>3.046412</td>\n",
              "      <td>3.872983</td>\n",
              "      <td>7.698701</td>\n",
              "    </tr>\n",
              "    <tr>\n",
              "      <th>Low</th>\n",
              "      <td>10098.0</td>\n",
              "      <td>3.116910</td>\n",
              "      <td>1.115213</td>\n",
              "      <td>1.268858</td>\n",
              "      <td>2.193741</td>\n",
              "      <td>2.979094</td>\n",
              "      <td>3.799424</td>\n",
              "      <td>7.583535</td>\n",
              "    </tr>\n",
              "    <tr>\n",
              "      <th>Close</th>\n",
              "      <td>10098.0</td>\n",
              "      <td>3.152253</td>\n",
              "      <td>1.128817</td>\n",
              "      <td>1.272792</td>\n",
              "      <td>2.222049</td>\n",
              "      <td>3.010399</td>\n",
              "      <td>3.835036</td>\n",
              "      <td>7.674634</td>\n",
              "    </tr>\n",
              "    <tr>\n",
              "      <th>Adj Close</th>\n",
              "      <td>10098.0</td>\n",
              "      <td>3.152253</td>\n",
              "      <td>1.128817</td>\n",
              "      <td>1.272792</td>\n",
              "      <td>2.222049</td>\n",
              "      <td>3.010399</td>\n",
              "      <td>3.835036</td>\n",
              "      <td>7.674634</td>\n",
              "    </tr>\n",
              "    <tr>\n",
              "      <th>Volume</th>\n",
              "      <td>10098.0</td>\n",
              "      <td>2969.100957</td>\n",
              "      <td>2387.730057</td>\n",
              "      <td>0.000000</td>\n",
              "      <td>1048.141212</td>\n",
              "      <td>2349.148780</td>\n",
              "      <td>4174.592794</td>\n",
              "      <td>18029.376029</td>\n",
              "    </tr>\n",
              "  </tbody>\n",
              "</table>\n",
              "</div>\n",
              "      <button class=\"colab-df-convert\" onclick=\"convertToInteractive('df-0724bae4-8172-4506-8605-689f6bd10663')\"\n",
              "              title=\"Convert this dataframe to an interactive table.\"\n",
              "              style=\"display:none;\">\n",
              "        \n",
              "  <svg xmlns=\"http://www.w3.org/2000/svg\" height=\"24px\"viewBox=\"0 0 24 24\"\n",
              "       width=\"24px\">\n",
              "    <path d=\"M0 0h24v24H0V0z\" fill=\"none\"/>\n",
              "    <path d=\"M18.56 5.44l.94 2.06.94-2.06 2.06-.94-2.06-.94-.94-2.06-.94 2.06-2.06.94zm-11 1L8.5 8.5l.94-2.06 2.06-.94-2.06-.94L8.5 2.5l-.94 2.06-2.06.94zm10 10l.94 2.06.94-2.06 2.06-.94-2.06-.94-.94-2.06-.94 2.06-2.06.94z\"/><path d=\"M17.41 7.96l-1.37-1.37c-.4-.4-.92-.59-1.43-.59-.52 0-1.04.2-1.43.59L10.3 9.45l-7.72 7.72c-.78.78-.78 2.05 0 2.83L4 21.41c.39.39.9.59 1.41.59.51 0 1.02-.2 1.41-.59l7.78-7.78 2.81-2.81c.8-.78.8-2.07 0-2.86zM5.41 20L4 18.59l7.72-7.72 1.47 1.35L5.41 20z\"/>\n",
              "  </svg>\n",
              "      </button>\n",
              "      \n",
              "  <style>\n",
              "    .colab-df-container {\n",
              "      display:flex;\n",
              "      flex-wrap:wrap;\n",
              "      gap: 12px;\n",
              "    }\n",
              "\n",
              "    .colab-df-convert {\n",
              "      background-color: #E8F0FE;\n",
              "      border: none;\n",
              "      border-radius: 50%;\n",
              "      cursor: pointer;\n",
              "      display: none;\n",
              "      fill: #1967D2;\n",
              "      height: 32px;\n",
              "      padding: 0 0 0 0;\n",
              "      width: 32px;\n",
              "    }\n",
              "\n",
              "    .colab-df-convert:hover {\n",
              "      background-color: #E2EBFA;\n",
              "      box-shadow: 0px 1px 2px rgba(60, 64, 67, 0.3), 0px 1px 3px 1px rgba(60, 64, 67, 0.15);\n",
              "      fill: #174EA6;\n",
              "    }\n",
              "\n",
              "    [theme=dark] .colab-df-convert {\n",
              "      background-color: #3B4455;\n",
              "      fill: #D2E3FC;\n",
              "    }\n",
              "\n",
              "    [theme=dark] .colab-df-convert:hover {\n",
              "      background-color: #434B5C;\n",
              "      box-shadow: 0px 1px 3px 1px rgba(0, 0, 0, 0.15);\n",
              "      filter: drop-shadow(0px 1px 2px rgba(0, 0, 0, 0.3));\n",
              "      fill: #FFFFFF;\n",
              "    }\n",
              "  </style>\n",
              "\n",
              "      <script>\n",
              "        const buttonEl =\n",
              "          document.querySelector('#df-0724bae4-8172-4506-8605-689f6bd10663 button.colab-df-convert');\n",
              "        buttonEl.style.display =\n",
              "          google.colab.kernel.accessAllowed ? 'block' : 'none';\n",
              "\n",
              "        async function convertToInteractive(key) {\n",
              "          const element = document.querySelector('#df-0724bae4-8172-4506-8605-689f6bd10663');\n",
              "          const dataTable =\n",
              "            await google.colab.kernel.invokeFunction('convertToInteractive',\n",
              "                                                     [key], {});\n",
              "          if (!dataTable) return;\n",
              "\n",
              "          const docLinkHtml = 'Like what you see? Visit the ' +\n",
              "            '<a target=\"_blank\" href=https://colab.research.google.com/notebooks/data_table.ipynb>data table notebook</a>'\n",
              "            + ' to learn more about interactive tables.';\n",
              "          element.innerHTML = '';\n",
              "          dataTable['output_type'] = 'display_data';\n",
              "          await google.colab.output.renderOutput(dataTable, element);\n",
              "          const docLink = document.createElement('div');\n",
              "          docLink.innerHTML = docLinkHtml;\n",
              "          element.appendChild(docLink);\n",
              "        }\n",
              "      </script>\n",
              "    </div>\n",
              "  </div>\n",
              "  "
            ]
          },
          "metadata": {},
          "execution_count": 27
        }
      ],
      "source": [
        "amdsqrt.describe().T"
      ]
    },
    {
      "cell_type": "markdown",
      "metadata": {
        "id": "wtu-bFxFbR29"
      },
      "source": [
        "- Transform masih belum sepenuhnya mengatasi skewed data distribution"
      ]
    },
    {
      "cell_type": "code",
      "execution_count": null,
      "metadata": {
        "id": "8tiwJL5dXH5N"
      },
      "outputs": [],
      "source": [
        "amdsqrt = amdsqrt.drop(['Open', 'High', 'Low', 'Adj Close', 'Volume'], axis = 1)\n",
        "aaplsqrt = aaplsqrt.drop(['Open', 'High', 'Low', 'Adj Close', 'Volume'], axis = 1)"
      ]
    },
    {
      "cell_type": "code",
      "execution_count": null,
      "metadata": {
        "colab": {
          "base_uri": "https://localhost:8080/",
          "height": 452
        },
        "id": "e9D4L5bzUJ7a",
        "outputId": "f24aa2d8-21f1-4df1-8138-8540d5c6d041"
      },
      "outputs": [
        {
          "output_type": "display_data",
          "data": {
            "text/plain": [
              "<Figure size 640x480 with 1 Axes>"
            ],
            "image/png": "[encoded data removed]"
          },
          "metadata": {}
        }
      ],
      "source": [
        "sns.boxplot(data = amdsqrt['Close'], orient = 'h')\n",
        "plt.title('AMD Close')\n",
        "plt.show()"
      ]
    },
    {
      "cell_type": "code",
      "execution_count": null,
      "metadata": {
        "colab": {
          "base_uri": "https://localhost:8080/",
          "height": 452
        },
        "id": "WH_DuKZma1FB",
        "outputId": "f2d226e5-609e-4be4-98ff-8098cc4dbfa3"
      },
      "outputs": [
        {
          "output_type": "display_data",
          "data": {
            "text/plain": [
              "<Figure size 640x480 with 1 Axes>"
            ],
            "image/png": "[encoded data removed]"
          },
          "metadata": {}
        }
      ],
      "source": [
        "sns.boxplot(data = aaplsqrt['Close'], orient = 'h')\n",
        "plt.title('AAPL Close')\n",
        "plt.show()"
      ]
    },
    {
      "cell_type": "markdown",
      "metadata": {
        "id": "CzGLkZzHbjnD"
      },
      "source": [
        "- Terdapat outlier pada kedua dataset, sehingga akan dilakukan handling outliers menggunakan metode IQR dikarenakan dataset tidak terlalu simetris"
      ]
    },
    {
      "cell_type": "code",
      "execution_count": null,
      "metadata": {
        "id": "Z-N6Eg_xf_fJ"
      },
      "outputs": [],
      "source": [
        "def removeoutliers(x):\n",
        "    q1 = x.quantile(0.25)\n",
        "    q3 = x.quantile(0.75)\n",
        "    iqr = q3-q1\n",
        "\n",
        "    result = x[~((x < (q1 - 1.5 * iqr)) | (x > (q3 + 1.5 * iqr)))]\n",
        "\n",
        "    return result"
      ]
    },
    {
      "cell_type": "code",
      "execution_count": null,
      "metadata": {
        "id": "fiLknmrvgIQj"
      },
      "outputs": [],
      "source": [
        "amdsqrt['Close'] = removeoutliers(amdsqrt['Close'])\n",
        "aaplsqrt['Close'] = removeoutliers(aaplsqrt['Close'])"
      ]
    },
    {
      "cell_type": "code",
      "execution_count": null,
      "metadata": {
        "colab": {
          "base_uri": "https://localhost:8080/"
        },
        "id": "OKDImFlsgelw",
        "outputId": "b53c438b-dcc4-4a70-da72-f6665c6930f2"
      },
      "outputs": [
        {
          "output_type": "execute_result",
          "data": {
            "text/plain": [
              "Date       0\n",
              "Close    170\n",
              "dtype: int64"
            ]
          },
          "metadata": {},
          "execution_count": 33
        }
      ],
      "source": [
        "amdsqrt.isna().sum()"
      ]
    },
    {
      "cell_type": "code",
      "execution_count": null,
      "metadata": {
        "colab": {
          "base_uri": "https://localhost:8080/"
        },
        "id": "VeaHRratghJL",
        "outputId": "9b66fb41-5cce-47b0-8095-b6e4c024bf23"
      },
      "outputs": [
        {
          "output_type": "execute_result",
          "data": {
            "text/plain": [
              "Date       0\n",
              "Close    407\n",
              "dtype: int64"
            ]
          },
          "metadata": {},
          "execution_count": 34
        }
      ],
      "source": [
        "aaplsqrt.isna().sum()"
      ]
    },
    {
      "cell_type": "code",
      "execution_count": null,
      "metadata": {
        "id": "yLZ8BGgfi8Bb"
      },
      "outputs": [],
      "source": [
        "amdsqrt = amdsqrt.dropna()"
      ]
    },
    {
      "cell_type": "code",
      "execution_count": null,
      "metadata": {
        "id": "blPXyUbyi_Hb"
      },
      "outputs": [],
      "source": [
        "aaplsqrt = aaplsqrt.dropna()"
      ]
    },
    {
      "cell_type": "code",
      "execution_count": null,
      "metadata": {
        "colab": {
          "base_uri": "https://localhost:8080/",
          "height": 271
        },
        "id": "zLoRhwt6aGie",
        "outputId": "3e0abcd4-a3f1-4885-c83d-b15bc309b643"
      },
      "outputs": [
        {
          "output_type": "display_data",
          "data": {
            "text/plain": [
              "<Figure size 2000x600 with 1 Axes>"
            ],
            "image/png": "[encoded data removed]"
          },
          "metadata": {}
        }
      ],
      "source": [
        "plt.subplots(figsize=(20, 6))\n",
        "\n",
        "sns.lineplot(x='Date', y='Close', data=amdsqrt, label=\"AMD\")\n",
        "plt.title('Closing Stock Price Over Time')\n",
        "plt.xlabel('Date')\n",
        "plt.ylabel('Closing Stock Price')\n",
        "\n",
        "sns.lineplot(x='Date', y='Close', data = aaplsqrt, color = \"green\", label=\"AAPL\")\n",
        "plt.xlabel('Date')\n",
        "plt.ylabel('Closing Stock Price')\n",
        "\n",
        "plt.legend(loc='upper left')\n",
        "\n",
        "plt.show()"
      ]
    },
    {
      "cell_type": "markdown",
      "metadata": {
        "id": "5lafLihvagEW"
      },
      "source": [
        "- Harga penutupan saham AMD secara keseluruhan stagnan dari tahun 1980 hinggga 2020\n",
        "- Harga penutupan saham AAPL secara keseluruhan meningkat dari tahun 1980  hingga 2020\n",
        "- Jika dibandingkan, saham AAPL memiliki performa yang lebih baik pada sekitar 2005-2010 dan hal ini mungkin disebabkan oleh semakin meningkatnya penggunaan smartphone dan dimulainya era digital"
      ]
    },
    {
      "cell_type": "markdown",
      "metadata": {
        "id": "sVxf5HIYcSjx"
      },
      "source": [
        "## Window and Split Data"
      ]
    },
    {
      "cell_type": "code",
      "source": [
        "amdsqrt_close = amdsqrt['Close'].to_numpy()\n",
        "aaplsqrt_close = aaplsqrt['Close'].to_numpy()"
      ],
      "metadata": {
        "id": "us1H4fR6Qdkt"
      },
      "execution_count": null,
      "outputs": []
    },
    {
      "cell_type": "code",
      "source": [
        "print(len(amdsqrt_close))\n",
        "print(len(aaplsqrt_close))"
      ],
      "metadata": {
        "colab": {
          "base_uri": "https://localhost:8080/"
        },
        "id": "M3l96pvEhYW0",
        "outputId": "4b6b8271-6c1f-4332-b148-c0bbd9e96eeb"
      },
      "execution_count": null,
      "outputs": [
        {
          "output_type": "stream",
          "name": "stdout",
          "text": [
            "9928\n",
            "9502\n"
          ]
        }
      ]
    },
    {
      "cell_type": "code",
      "source": [
        "windowsize = 5\n",
        "horizon = 1"
      ],
      "metadata": {
        "id": "okn3HkBtWE9S"
      },
      "execution_count": null,
      "outputs": []
    },
    {
      "cell_type": "code",
      "source": [
        "def labelwindow(x, horizon):\n",
        "  return x[:, :-horizon], x[:, -horizon:]"
      ],
      "metadata": {
        "id": "BY5oyFLRVNTW"
      },
      "execution_count": null,
      "outputs": []
    },
    {
      "cell_type": "code",
      "source": [
        "def make_windows(x, window_size, horizon):\n",
        "  step = np.expand_dims(np.arange(windowsize + horizon), axis=0)\n",
        "\n",
        "  index = step + np.expand_dims(np.arange(len(x) - (windowsize+horizon-1)), axis=0).T\n",
        "\n",
        "  arr = x[index]\n",
        "\n",
        "  input, output = labelwindow(arr, horizon)\n",
        "\n",
        "  return input, output"
      ],
      "metadata": {
        "id": "90wTMtPfVKSt"
      },
      "execution_count": null,
      "outputs": []
    },
    {
      "cell_type": "code",
      "source": [
        "amdinput, amdoutput = make_windows(amdsqrt_close, windowsize, horizon)\n",
        "\n",
        "aaplinput, aaploutput = make_windows(aaplsqrt_close, windowsize, horizon)"
      ],
      "metadata": {
        "id": "kXAnBUlnVQ35"
      },
      "execution_count": null,
      "outputs": []
    },
    {
      "cell_type": "code",
      "source": [
        "print(\"AMD Input and AMD Output\")\n",
        "for i in range(5):\n",
        "  print(f\"Window: {amdinput[i-3]} -> Label: {amdoutput[i-3]}\")"
      ],
      "metadata": {
        "colab": {
          "base_uri": "https://localhost:8080/"
        },
        "id": "qDOTRKGfVWGK",
        "outputId": "b235e1aa-b901-45b5-93e5-451392241c87"
      },
      "execution_count": null,
      "outputs": [
        {
          "output_type": "stream",
          "name": "stdout",
          "text": [
            "AMD Input and AMD Output\n",
            "Window: [6.19273756 6.20966999 6.24419744 6.22334312 6.23698657] -> Label: [6.23939102]\n",
            "Window: [6.20966999 6.24419744 6.22334312 6.23698657 6.23939102] -> Label: [6.24579845]\n",
            "Window: [6.24419744 6.22334312 6.23698657 6.23939102 6.24579845] -> Label: [6.22173602]\n",
            "Window: [1.7736497  1.74104853 1.74403748 1.73505526 1.70782515] -> Label: [1.63299319]\n",
            "Window: [1.74104853 1.74403748 1.73505526 1.70782515 1.63299319] -> Label: [1.61374309]\n"
          ]
        }
      ]
    },
    {
      "cell_type": "code",
      "source": [
        "print(\"AAPL Input and AAPL Output\")\n",
        "for i in range(5):\n",
        "  print(f\"Window: {aaplinput[i-3]} -> Label: {aaploutput[i-3]}\")"
      ],
      "metadata": {
        "colab": {
          "base_uri": "https://localhost:8080/"
        },
        "id": "QDxbGrZhXBtU",
        "outputId": "fffedd2e-6c77-4e6b-9c83-117a77a2fa49"
      },
      "execution_count": null,
      "outputs": [
        {
          "output_type": "stream",
          "name": "stdout",
          "text": [
            "AAPL Input and AAPL Output\n",
            "Window: [13.14952485 13.37535023 13.37796701 13.35028074 13.3184085 ] -> Label: [13.35290242]\n",
            "Window: [13.37535023 13.37796701 13.35028074 13.3184085  13.35290242] -> Label: [13.23140232]\n",
            "Window: [13.37796701 13.35028074 13.3184085  13.35290242 13.23140232] -> Label: [13.1643459]\n",
            "Window: [0.71651439 0.69757231 0.67148557 0.67974522 0.68952624] -> Label: [0.71025648]\n",
            "Window: [0.69757231 0.67148557 0.67974522 0.68952624 0.71025648] -> Label: [0.72733614]\n"
          ]
        }
      ]
    },
    {
      "cell_type": "code",
      "source": [
        "print(\"AMD Input and Output Size\")\n",
        "print(len(amdinput))\n",
        "print(len(amdoutput))"
      ],
      "metadata": {
        "colab": {
          "base_uri": "https://localhost:8080/"
        },
        "id": "wuJFR5v6dmua",
        "outputId": "a0c7a03d-6841-45fa-874e-ea686a686109"
      },
      "execution_count": null,
      "outputs": [
        {
          "output_type": "stream",
          "name": "stdout",
          "text": [
            "AMD Input and Output Size\n",
            "9923\n",
            "9923\n"
          ]
        }
      ]
    },
    {
      "cell_type": "code",
      "source": [
        "print(\"AAPL Input and Output Size\")\n",
        "print(len(aaplinput))\n",
        "print(len(aaploutput))"
      ],
      "metadata": {
        "colab": {
          "base_uri": "https://localhost:8080/"
        },
        "id": "dkU3wL4LhJW3",
        "outputId": "603f67ec-fe39-4bbc-eb97-f21e115c3a08"
      },
      "execution_count": null,
      "outputs": [
        {
          "output_type": "stream",
          "name": "stdout",
          "text": [
            "AAPL Input and Output Size\n",
            "9497\n",
            "9497\n"
          ]
        }
      ]
    },
    {
      "cell_type": "code",
      "source": [
        "def datasplit(input, output):\n",
        "  train_size = int(0.8 * len(input))\n",
        "  test_size = train_size + int(0.1 * len(input))\n",
        "\n",
        "  X_train, y_train = input[:train_size], output[:train_size]\n",
        "  X_test, y_test = input[train_size:test_size], output[train_size:test_size]\n",
        "  X_val, y_val = input[test_size:], output[test_size:]\n",
        "\n",
        "  return X_train, y_train, X_test, y_test, X_val, y_val"
      ],
      "metadata": {
        "id": "CTsowXataZmi"
      },
      "execution_count": null,
      "outputs": []
    },
    {
      "cell_type": "code",
      "source": [
        "amd_Xtrain, amd_ytrain, amd_Xtest, amd_ytest, amd_Xval, amd_yval = datasplit(amdinput, amdoutput)"
      ],
      "metadata": {
        "id": "esV6d4OzeL2T"
      },
      "execution_count": null,
      "outputs": []
    },
    {
      "cell_type": "code",
      "source": [
        "aapl_Xtrain, aapl_ytrain, aapl_Xtest, aapl_ytest, aapl_Xval, aapl_yval = datasplit(aaplinput, aaploutput)"
      ],
      "metadata": {
        "id": "vXYu-DRYg-j0"
      },
      "execution_count": null,
      "outputs": []
    },
    {
      "cell_type": "code",
      "source": [
        "print(\"AMD Split:\")\n",
        "print(len(amd_Xtrain))\n",
        "print(len(amd_ytrain))\n",
        "\n",
        "print(len(amd_Xtest))\n",
        "print(len(amd_ytest))\n",
        "\n",
        "print(len(amd_Xval))\n",
        "print(len(amd_yval))"
      ],
      "metadata": {
        "colab": {
          "base_uri": "https://localhost:8080/"
        },
        "id": "_LxXEt8QevvD",
        "outputId": "a6af8871-5505-4add-8790-a7b0c1b3b2b8"
      },
      "execution_count": null,
      "outputs": [
        {
          "output_type": "stream",
          "name": "stdout",
          "text": [
            "AMD Split:\n",
            "7938\n",
            "7938\n",
            "992\n",
            "992\n",
            "993\n",
            "993\n"
          ]
        }
      ]
    },
    {
      "cell_type": "code",
      "source": [
        "print(\"AAPL Split:\")\n",
        "print(len(aapl_Xtrain))\n",
        "print(len(aapl_ytrain))\n",
        "\n",
        "print(len(aapl_Xtest))\n",
        "print(len(aapl_ytest))\n",
        "\n",
        "print(len(aapl_Xval))\n",
        "print(len(aapl_yval))"
      ],
      "metadata": {
        "colab": {
          "base_uri": "https://localhost:8080/"
        },
        "id": "ukItL0dxhEdf",
        "outputId": "221fc8fe-ff9d-412f-8741-44f9a520dcb0"
      },
      "execution_count": null,
      "outputs": [
        {
          "output_type": "stream",
          "name": "stdout",
          "text": [
            "AAPL Split:\n",
            "7597\n",
            "7597\n",
            "949\n",
            "949\n",
            "951\n",
            "951\n"
          ]
        }
      ]
    },
    {
      "cell_type": "markdown",
      "source": [
        "## Baseline Architecture"
      ],
      "metadata": {
        "id": "95O4HmiAiSb0"
      }
    },
    {
      "cell_type": "code",
      "source": [
        "def lstmbaseline():\n",
        "  model = Sequential()\n",
        "  model.add(LSTM(units=50, activation='relu', input_shape=(windowsize, horizon)))\n",
        "  model.add(Dense(units=1))\n",
        "\n",
        "  model.compile(optimizer='adam', loss='mean_squared_error')\n",
        "\n",
        "  return model"
      ],
      "metadata": {
        "id": "O1k5IXOgh00d"
      },
      "execution_count": null,
      "outputs": []
    },
    {
      "cell_type": "code",
      "source": [
        "lstm_baseline = lstmbaseline()\n",
        "lstm_baseline.summary()"
      ],
      "metadata": {
        "colab": {
          "base_uri": "https://localhost:8080/"
        },
        "id": "jqqbqCKQTyqk",
        "outputId": "39627e49-1cbe-464a-beb9-c8ac9ffd5e7c"
      },
      "execution_count": null,
      "outputs": [
        {
          "output_type": "stream",
          "name": "stdout",
          "text": [
            "Model: \"sequential\"\n",
            "_________________________________________________________________\n",
            " Layer (type)                Output Shape              Param #   \n",
            "=================================================================\n",
            " lstm (LSTM)                 (None, 50)                10400     \n",
            "                                                                 \n",
            " dense (Dense)               (None, 1)                 51        \n",
            "                                                                 \n",
            "=================================================================\n",
            "Total params: 10,451\n",
            "Trainable params: 10,451\n",
            "Non-trainable params: 0\n",
            "_________________________________________________________________\n"
          ]
        }
      ]
    },
    {
      "cell_type": "code",
      "source": [
        "history = lstm_baseline.fit(amd_Xtrain, amd_ytrain, validation_data = (amd_Xtest, amd_ytest), epochs = 20, batch_size = 64)"
      ],
      "metadata": {
        "colab": {
          "base_uri": "https://localhost:8080/"
        },
        "id": "sxzTUw75ULbd",
        "outputId": "e8ce071c-210f-4189-a166-26ae54e8f412"
      },
      "execution_count": null,
      "outputs": [
        {
          "output_type": "stream",
          "name": "stdout",
          "text": [
            "Epoch 1/20\n",
            "125/125 [==============================] - 3s 8ms/step - loss: 1.7059 - val_loss: 0.0433\n",
            "Epoch 2/20\n",
            "125/125 [==============================] - 1s 5ms/step - loss: 0.0146 - val_loss: 0.0030\n",
            "Epoch 3/20\n",
            "125/125 [==============================] - 1s 5ms/step - loss: 0.0079 - val_loss: 0.0032\n",
            "Epoch 4/20\n",
            "125/125 [==============================] - 1s 5ms/step - loss: 0.0079 - val_loss: 0.0030\n",
            "Epoch 5/20\n",
            "125/125 [==============================] - 1s 5ms/step - loss: 0.0078 - val_loss: 0.0033\n",
            "Epoch 6/20\n",
            "125/125 [==============================] - 1s 5ms/step - loss: 0.0077 - val_loss: 0.0026\n",
            "Epoch 7/20\n",
            "125/125 [==============================] - 1s 5ms/step - loss: 0.0076 - val_loss: 0.0030\n",
            "Epoch 8/20\n",
            "125/125 [==============================] - 1s 5ms/step - loss: 0.0074 - val_loss: 0.0024\n",
            "Epoch 9/20\n",
            "125/125 [==============================] - 1s 5ms/step - loss: 0.0073 - val_loss: 0.0027\n",
            "Epoch 10/20\n",
            "125/125 [==============================] - 1s 7ms/step - loss: 0.0071 - val_loss: 0.0045\n",
            "Epoch 11/20\n",
            "125/125 [==============================] - 1s 8ms/step - loss: 0.0074 - val_loss: 0.0023\n",
            "Epoch 12/20\n",
            "125/125 [==============================] - 1s 10ms/step - loss: 0.0071 - val_loss: 0.0033\n",
            "Epoch 13/20\n",
            "125/125 [==============================] - 1s 9ms/step - loss: 0.0070 - val_loss: 0.0023\n",
            "Epoch 14/20\n",
            "125/125 [==============================] - 1s 8ms/step - loss: 0.0070 - val_loss: 0.0029\n",
            "Epoch 15/20\n",
            "125/125 [==============================] - 1s 9ms/step - loss: 0.0072 - val_loss: 0.0029\n",
            "Epoch 16/20\n",
            "125/125 [==============================] - 1s 6ms/step - loss: 0.0068 - val_loss: 0.0027\n",
            "Epoch 17/20\n",
            "125/125 [==============================] - 1s 5ms/step - loss: 0.0070 - val_loss: 0.0023\n",
            "Epoch 18/20\n",
            "125/125 [==============================] - 1s 5ms/step - loss: 0.0065 - val_loss: 0.0029\n",
            "Epoch 19/20\n",
            "125/125 [==============================] - 1s 5ms/step - loss: 0.0066 - val_loss: 0.0026\n",
            "Epoch 20/20\n",
            "125/125 [==============================] - 1s 6ms/step - loss: 0.0071 - val_loss: 0.0037\n"
          ]
        }
      ]
    },
    {
      "cell_type": "code",
      "source": [
        "plt.plot(history.history['loss'], label='Training Loss')\n",
        "plt.plot(history.history['val_loss'], label='Validation Loss')\n",
        "plt.title(\"AMD Baseline Model\")\n",
        "plt.legend(loc='upper right')\n",
        "plt.show()"
      ],
      "metadata": {
        "colab": {
          "base_uri": "https://localhost:8080/",
          "height": 452
        },
        "id": "kIpJwkYpWvTo",
        "outputId": "dd7c947c-f1e1-4ceb-86d3-dd4182817deb"
      },
      "execution_count": null,
      "outputs": [
        {
          "output_type": "display_data",
          "data": {
            "text/plain": [
              "<Figure size 640x480 with 1 Axes>"
            ],
            "image/png": "[encoded data removed]"
          },
          "metadata": {}
        }
      ]
    },
    {
      "cell_type": "code",
      "source": [
        "history1 = lstm_baseline.fit(aapl_Xtrain, aapl_ytrain, validation_data = (aapl_Xtest, aapl_ytest), epochs = 20, batch_size = 64)"
      ],
      "metadata": {
        "colab": {
          "base_uri": "https://localhost:8080/"
        },
        "id": "ykwTCg7jDsEI",
        "outputId": "4ebb1a4e-040d-4bf8-fd76-0956e1af57fc"
      },
      "execution_count": null,
      "outputs": [
        {
          "output_type": "stream",
          "name": "stdout",
          "text": [
            "Epoch 1/20\n",
            "119/119 [==============================] - 1s 6ms/step - loss: 0.0047 - val_loss: 0.1616\n",
            "Epoch 2/20\n",
            "119/119 [==============================] - 1s 6ms/step - loss: 0.0030 - val_loss: 0.1201\n",
            "Epoch 3/20\n",
            "119/119 [==============================] - 1s 6ms/step - loss: 0.0024 - val_loss: 0.0091\n",
            "Epoch 4/20\n",
            "119/119 [==============================] - 1s 6ms/step - loss: 0.0021 - val_loss: 0.0103\n",
            "Epoch 5/20\n",
            "119/119 [==============================] - 1s 9ms/step - loss: 0.0020 - val_loss: 0.0165\n",
            "Epoch 6/20\n",
            "119/119 [==============================] - 2s 13ms/step - loss: 0.0018 - val_loss: 0.0167\n",
            "Epoch 7/20\n",
            "119/119 [==============================] - 1s 9ms/step - loss: 0.0018 - val_loss: 0.0246\n",
            "Epoch 8/20\n",
            "119/119 [==============================] - 2s 18ms/step - loss: 0.0024 - val_loss: 0.1490\n",
            "Epoch 9/20\n",
            "119/119 [==============================] - 1s 12ms/step - loss: 0.0022 - val_loss: 0.0219\n",
            "Epoch 10/20\n",
            "119/119 [==============================] - 1s 12ms/step - loss: 0.0017 - val_loss: 0.0515\n",
            "Epoch 11/20\n",
            "119/119 [==============================] - 2s 14ms/step - loss: 0.0015 - val_loss: 0.0319\n",
            "Epoch 12/20\n",
            "119/119 [==============================] - 1s 12ms/step - loss: 0.0017 - val_loss: 0.0841\n",
            "Epoch 13/20\n",
            "119/119 [==============================] - 1s 11ms/step - loss: 0.0016 - val_loss: 0.0582\n",
            "Epoch 14/20\n",
            "119/119 [==============================] - 1s 11ms/step - loss: 0.0017 - val_loss: 0.1608\n",
            "Epoch 15/20\n",
            "119/119 [==============================] - 1s 8ms/step - loss: 0.0016 - val_loss: 0.3674\n",
            "Epoch 16/20\n",
            "119/119 [==============================] - 2s 13ms/step - loss: 0.0017 - val_loss: 0.1298\n",
            "Epoch 17/20\n",
            "119/119 [==============================] - 2s 14ms/step - loss: 0.0016 - val_loss: 0.1320\n",
            "Epoch 18/20\n",
            "119/119 [==============================] - 1s 9ms/step - loss: 0.0017 - val_loss: 0.1068\n",
            "Epoch 19/20\n",
            "119/119 [==============================] - 1s 9ms/step - loss: 0.0015 - val_loss: 0.0981\n",
            "Epoch 20/20\n",
            "119/119 [==============================] - 1s 5ms/step - loss: 0.0015 - val_loss: 0.1260\n"
          ]
        }
      ]
    },
    {
      "cell_type": "code",
      "source": [
        "plt.plot(history1.history1['loss'], label='Training Loss')\n",
        "plt.plot(history1.history1['val_loss'], label='Validation Loss')\n",
        "plt.title(\"AAPL Baseline Model\")\n",
        "plt.legend(loc='upper right')\n",
        "plt.show()"
      ],
      "metadata": {
        "colab": {
          "base_uri": "https://localhost:8080/",
          "height": 244
        },
        "id": "vr9yOdKnD2e9",
        "outputId": "1c8dcbe7-8eaf-437f-b6b7-1dd1fc661743"
      },
      "execution_count": null,
      "outputs": [
        {
          "output_type": "error",
          "ename": "AttributeError",
          "evalue": "ignored",
          "traceback": [
            "\u001b[0;31m---------------------------------------------------------------------------\u001b[0m",
            "\u001b[0;31mAttributeError\u001b[0m                            Traceback (most recent call last)",
            "\u001b[0;32m<ipython-input-59-6f64564c3163>\u001b[0m in \u001b[0;36m<cell line: 1>\u001b[0;34m()\u001b[0m\n\u001b[0;32m----> 1\u001b[0;31m \u001b[0mplt\u001b[0m\u001b[0;34m.\u001b[0m\u001b[0mplot\u001b[0m\u001b[0;34m(\u001b[0m\u001b[0mhistory1\u001b[0m\u001b[0;34m.\u001b[0m\u001b[0mhistory1\u001b[0m\u001b[0;34m[\u001b[0m\u001b[0;34m'loss'\u001b[0m\u001b[0;34m]\u001b[0m\u001b[0;34m,\u001b[0m \u001b[0mlabel\u001b[0m\u001b[0;34m=\u001b[0m\u001b[0;34m'Training Loss'\u001b[0m\u001b[0;34m)\u001b[0m\u001b[0;34m\u001b[0m\u001b[0;34m\u001b[0m\u001b[0m\n\u001b[0m\u001b[1;32m      2\u001b[0m \u001b[0mplt\u001b[0m\u001b[0;34m.\u001b[0m\u001b[0mplot\u001b[0m\u001b[0;34m(\u001b[0m\u001b[0mhistory1\u001b[0m\u001b[0;34m.\u001b[0m\u001b[0mhistory1\u001b[0m\u001b[0;34m[\u001b[0m\u001b[0;34m'val_loss'\u001b[0m\u001b[0;34m]\u001b[0m\u001b[0;34m,\u001b[0m \u001b[0mlabel\u001b[0m\u001b[0;34m=\u001b[0m\u001b[0;34m'Validation Loss'\u001b[0m\u001b[0;34m)\u001b[0m\u001b[0;34m\u001b[0m\u001b[0;34m\u001b[0m\u001b[0m\n\u001b[1;32m      3\u001b[0m \u001b[0mplt\u001b[0m\u001b[0;34m.\u001b[0m\u001b[0mtitle\u001b[0m\u001b[0;34m(\u001b[0m\u001b[0;34m\"AAPL Baseline Model\"\u001b[0m\u001b[0;34m)\u001b[0m\u001b[0;34m\u001b[0m\u001b[0;34m\u001b[0m\u001b[0m\n\u001b[1;32m      4\u001b[0m \u001b[0mplt\u001b[0m\u001b[0;34m.\u001b[0m\u001b[0mlegend\u001b[0m\u001b[0;34m(\u001b[0m\u001b[0mloc\u001b[0m\u001b[0;34m=\u001b[0m\u001b[0;34m'upper right'\u001b[0m\u001b[0;34m)\u001b[0m\u001b[0;34m\u001b[0m\u001b[0;34m\u001b[0m\u001b[0m\n\u001b[1;32m      5\u001b[0m \u001b[0mplt\u001b[0m\u001b[0;34m.\u001b[0m\u001b[0mshow\u001b[0m\u001b[0;34m(\u001b[0m\u001b[0;34m)\u001b[0m\u001b[0;34m\u001b[0m\u001b[0;34m\u001b[0m\u001b[0m\n",
            "\u001b[0;31mAttributeError\u001b[0m: 'History' object has no attribute 'history1'"
          ]
        }
      ]
    },
    {
      "cell_type": "markdown",
      "source": [
        "## Modified Model"
      ],
      "metadata": {
        "id": "KXCrVP2NABNN"
      }
    },
    {
      "cell_type": "code",
      "source": [],
      "metadata": {
        "id": "p2bOtaRvAAyi"
      },
      "execution_count": null,
      "outputs": []
    }
  ],
  "metadata": {
    "colab": {
      "provenance": []
    },
    "kernelspec": {
      "display_name": "Python 3",
      "name": "python3"
    },
    "language_info": {
      "name": "python"
    }
  },
  "nbformat": 4,
  "nbformat_minor": 0
}